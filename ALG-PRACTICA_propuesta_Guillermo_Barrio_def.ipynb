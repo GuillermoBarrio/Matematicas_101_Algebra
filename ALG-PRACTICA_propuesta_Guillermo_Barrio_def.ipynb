{
 "cells": [
  {
   "cell_type": "markdown",
   "id": "9b439de7",
   "metadata": {
    "id": "9b439de7"
   },
   "source": [
    "# Módulo de Matemáticas 101: práctica\n",
    "\n",
    "Vamos a poner de nuevo en práctica lo que hemos visto en este módulo. La práctica se centra en la regresión lineal (¡tema muy importante!) y podéis preguntarme las dudas que tengáis por Discord. ¡Mucha suerte!"
   ]
  },
  {
   "cell_type": "markdown",
   "id": "ART8FCXYewYR",
   "metadata": {
    "id": "ART8FCXYewYR"
   },
   "source": [
    "# Práctica de Matemáticas 101 - Álgebra - Guillermo Barrio\n",
    "\n",
    "*Esta es la práctica resulta por mí. He mantenido los enunciados originales, mientras que mis comentarios estan escritos en cursiva, para evitar confusiones*\n",
    "\n",
    "*La estructura de la práctica es la misma que la propuesta, con el añadido de un breve capítulo final, en el que resolvemos la correlación entre consumo y peso de automóbiles, con una columna adicional: el cuadrado del peso.*\n",
    "\n",
    "*Por otro lado, hemos añadido en el primer capítulo un pequeño análisis exploratorio.*\n",
    "\n",
    "*En el capítulo de descenso de gradiente hemos aplicado la definición de los ajustes de los coeficientes mediante el cálculo de las derivadas parciales respectivas. La razón es que inicialmente, sin ver el enunciado completo de la práctica, pensé en como resolverla, y decidí resolverla con las derivadas parciales; ya que funcionó, decidí dejarla así. Explico con cierto detalle el procedimiento que he seguido.*\n"
   ]
  },
  {
   "cell_type": "markdown",
   "id": "3d586f09",
   "metadata": {
    "id": "3d586f09"
   },
   "source": [
    "## 1. Regresión lineal con mínimos cuadrados\n",
    "\n",
    "En este ejercicio vamos a implementar la forma matricial de la regresión lineal con el método de los mínimos cuadrados. Para ello, tendrás que:\n",
    "\n",
    "- Explorar un dataset\n",
    "- Implementar la regresión lineal\n",
    "- Aplicarla a un dataset concreto\n",
    "\n",
    "Como recordatorio, los valores de los pesos $\\widehat{w}$ vienen dados por:\n",
    "\n",
    "<center>$\\widehat{w} = (X^T X)^{-1}X^T y,$</center>\n",
    "\n",
    "Donde $y$ es la variable a predecir y $X$ la matriz de features (NOTA: revisa cómo se define en los apuntes). Sabemos que los pesos van a ser los parámetros de la ecuación lineal que estamos intentando ajustar y tendremos uno por cada variable de entrada que usemos y además un término independiente o bias."
   ]
  },
  {
   "cell_type": "markdown",
   "id": "e574f77d",
   "metadata": {
    "id": "e574f77d"
   },
   "source": [
    "### 1.1 Carga del dataset y exploración de datos\n",
    "\n",
    "Vamos a usar el dataset de [Auto MPG](https://archive.ics.uci.edu/dataset/9/auto+mpg) que podemos encontrar en el [repositorio de Machine learning de UC Irvine](https://archive.ics.uci.edu/). Lo primero, vamos a familiarizarnos con los datos.\n",
    "\n",
    "En el propio repositorio nos indican cómo descargar el dataset con su librería (podemos consultar el código fuente si queremos)."
   ]
  },
  {
   "cell_type": "code",
   "execution_count": 1,
   "id": "4b5aac08",
   "metadata": {
    "colab": {
     "base_uri": "https://localhost:8080/"
    },
    "executionInfo": {
     "elapsed": 19718,
     "status": "ok",
     "timestamp": 1752574127745,
     "user": {
      "displayName": "Guillermo Barrio",
      "userId": "06925154007558381895"
     },
     "user_tz": -120
    },
    "id": "4b5aac08",
    "outputId": "17097cf9-3b52-46b5-c7fe-0a37ae55e8d3"
   },
   "outputs": [
    {
     "name": "stdout",
     "output_type": "stream",
     "text": [
      "Collecting ucimlrepo\n",
      "  Downloading ucimlrepo-0.0.7-py3-none-any.whl.metadata (5.5 kB)\n",
      "Requirement already satisfied: pandas>=1.0.0 in /usr/local/lib/python3.11/dist-packages (from ucimlrepo) (2.2.2)\n",
      "Requirement already satisfied: certifi>=2020.12.5 in /usr/local/lib/python3.11/dist-packages (from ucimlrepo) (2025.7.9)\n",
      "Requirement already satisfied: numpy>=1.23.2 in /usr/local/lib/python3.11/dist-packages (from pandas>=1.0.0->ucimlrepo) (2.0.2)\n",
      "Requirement already satisfied: python-dateutil>=2.8.2 in /usr/local/lib/python3.11/dist-packages (from pandas>=1.0.0->ucimlrepo) (2.9.0.post0)\n",
      "Requirement already satisfied: pytz>=2020.1 in /usr/local/lib/python3.11/dist-packages (from pandas>=1.0.0->ucimlrepo) (2025.2)\n",
      "Requirement already satisfied: tzdata>=2022.7 in /usr/local/lib/python3.11/dist-packages (from pandas>=1.0.0->ucimlrepo) (2025.2)\n",
      "Requirement already satisfied: six>=1.5 in /usr/local/lib/python3.11/dist-packages (from python-dateutil>=2.8.2->pandas>=1.0.0->ucimlrepo) (1.17.0)\n",
      "Downloading ucimlrepo-0.0.7-py3-none-any.whl (8.0 kB)\n",
      "Installing collected packages: ucimlrepo\n",
      "Successfully installed ucimlrepo-0.0.7\n"
     ]
    }
   ],
   "source": [
    "!pip install ucimlrepo"
   ]
  },
  {
   "cell_type": "code",
   "execution_count": 1,
   "id": "d69d9185",
   "metadata": {
    "colab": {
     "base_uri": "https://localhost:8080/"
    },
    "executionInfo": {
     "elapsed": 1692,
     "status": "ok",
     "timestamp": 1752574129440,
     "user": {
      "displayName": "Guillermo Barrio",
      "userId": "06925154007558381895"
     },
     "user_tz": -120
    },
    "id": "d69d9185",
    "outputId": "ab13afff-c616-493c-a422-a45ffed9d579"
   },
   "outputs": [
    {
     "name": "stdout",
     "output_type": "stream",
     "text": [
      "{'uci_id': 9, 'name': 'Auto MPG', 'repository_url': 'https://archive.ics.uci.edu/dataset/9/auto+mpg', 'data_url': 'https://archive.ics.uci.edu/static/public/9/data.csv', 'abstract': 'Revised from CMU StatLib library, data concerns city-cycle fuel consumption', 'area': 'Other', 'tasks': ['Regression'], 'characteristics': ['Multivariate'], 'num_instances': 398, 'num_features': 7, 'feature_types': ['Real', 'Categorical', 'Integer'], 'demographics': [], 'target_col': ['mpg'], 'index_col': ['car_name'], 'has_missing_values': 'yes', 'missing_values_symbol': 'NaN', 'year_of_dataset_creation': 1993, 'last_updated': 'Thu Aug 10 2023', 'dataset_doi': '10.24432/C5859H', 'creators': ['R. Quinlan'], 'intro_paper': None, 'additional_info': {'summary': 'This dataset is a slightly modified version of the dataset provided in the StatLib library.  In line with the use by Ross Quinlan (1993) in predicting the attribute \"mpg\", 8 of the original instances were removed because they had unknown values for the \"mpg\" attribute.  The original dataset is available in the file \"auto-mpg.data-original\".\\r\\n\\r\\n\"The data concerns city-cycle fuel consumption in miles per gallon, to be predicted in terms of 3 multivalued discrete and 5 continuous attributes.\" (Quinlan, 1993)', 'purpose': None, 'funded_by': None, 'instances_represent': None, 'recommended_data_splits': None, 'sensitive_data': None, 'preprocessing_description': None, 'variable_info': '    1. mpg:           continuous\\r\\n    2. cylinders:     multi-valued discrete\\r\\n    3. displacement:  continuous\\r\\n    4. horsepower:    continuous\\r\\n    5. weight:        continuous\\r\\n    6. acceleration:  continuous\\r\\n    7. model year:    multi-valued discrete\\r\\n    8. origin:        multi-valued discrete\\r\\n    9. car name:      string (unique for each instance)', 'citation': None}}\n",
      "           name     role         type demographic description units  \\\n",
      "0  displacement  Feature   Continuous        None        None  None   \n",
      "1           mpg   Target   Continuous        None        None  None   \n",
      "2     cylinders  Feature      Integer        None        None  None   \n",
      "3    horsepower  Feature   Continuous        None        None  None   \n",
      "4        weight  Feature   Continuous        None        None  None   \n",
      "5  acceleration  Feature   Continuous        None        None  None   \n",
      "6    model_year  Feature      Integer        None        None  None   \n",
      "7        origin  Feature      Integer        None        None  None   \n",
      "8      car_name       ID  Categorical        None        None  None   \n",
      "\n",
      "  missing_values  \n",
      "0             no  \n",
      "1             no  \n",
      "2             no  \n",
      "3            yes  \n",
      "4             no  \n",
      "5             no  \n",
      "6             no  \n",
      "7             no  \n",
      "8             no  \n"
     ]
    }
   ],
   "source": [
    "from ucimlrepo import fetch_ucirepo\n",
    "\n",
    "# fetch dataset\n",
    "auto_mpg = fetch_ucirepo(id=9)\n",
    "\n",
    "# data (as pandas dataframes)\n",
    "X = auto_mpg.data.features\n",
    "y = auto_mpg.data.targets\n",
    "\n",
    "# metadata\n",
    "print(auto_mpg.metadata)\n",
    "\n",
    "# variable information\n",
    "print(auto_mpg.variables)\n"
   ]
  },
  {
   "cell_type": "markdown",
   "id": "GOEkqT5WpsgW",
   "metadata": {
    "id": "GOEkqT5WpsgW"
   },
   "source": [
    "*Importo pandas como pd, por si hiciese falta utilizar algunos comandos de ella por el pd. por delante. Y hacemos lo mismo con numpy.*"
   ]
  },
  {
   "cell_type": "code",
   "execution_count": 2,
   "id": "1f070b64-47a7-402d-b1c1-2d224a2526fd",
   "metadata": {
    "executionInfo": {
     "elapsed": 87,
     "status": "ok",
     "timestamp": 1752582381089,
     "user": {
      "displayName": "Guillermo Barrio",
      "userId": "06925154007558381895"
     },
     "user_tz": -120
    },
    "id": "1f070b64-47a7-402d-b1c1-2d224a2526fd"
   },
   "outputs": [],
   "source": [
    "import numpy as np\n",
    "\n",
    "import pandas as pd"
   ]
  },
  {
   "cell_type": "markdown",
   "id": "5f7f79e8",
   "metadata": {
    "id": "5f7f79e8"
   },
   "source": [
    "Con la función `head` de Pandas podemos ver las primeras filas del dataset."
   ]
  },
  {
   "cell_type": "code",
   "execution_count": 3,
   "id": "242091db",
   "metadata": {
    "id": "242091db",
    "outputId": "822b0037-659b-4134-f2cd-30c820dbadbc"
   },
   "outputs": [
    {
     "data": {
      "text/html": [
       "<div>\n",
       "<style scoped>\n",
       "    .dataframe tbody tr th:only-of-type {\n",
       "        vertical-align: middle;\n",
       "    }\n",
       "\n",
       "    .dataframe tbody tr th {\n",
       "        vertical-align: top;\n",
       "    }\n",
       "\n",
       "    .dataframe thead th {\n",
       "        text-align: right;\n",
       "    }\n",
       "</style>\n",
       "<table border=\"1\" class=\"dataframe\">\n",
       "  <thead>\n",
       "    <tr style=\"text-align: right;\">\n",
       "      <th></th>\n",
       "      <th>displacement</th>\n",
       "      <th>cylinders</th>\n",
       "      <th>horsepower</th>\n",
       "      <th>weight</th>\n",
       "      <th>acceleration</th>\n",
       "      <th>model_year</th>\n",
       "      <th>origin</th>\n",
       "    </tr>\n",
       "  </thead>\n",
       "  <tbody>\n",
       "    <tr>\n",
       "      <th>0</th>\n",
       "      <td>307.0</td>\n",
       "      <td>8</td>\n",
       "      <td>130.0</td>\n",
       "      <td>3504</td>\n",
       "      <td>12.0</td>\n",
       "      <td>70</td>\n",
       "      <td>1</td>\n",
       "    </tr>\n",
       "    <tr>\n",
       "      <th>1</th>\n",
       "      <td>350.0</td>\n",
       "      <td>8</td>\n",
       "      <td>165.0</td>\n",
       "      <td>3693</td>\n",
       "      <td>11.5</td>\n",
       "      <td>70</td>\n",
       "      <td>1</td>\n",
       "    </tr>\n",
       "    <tr>\n",
       "      <th>2</th>\n",
       "      <td>318.0</td>\n",
       "      <td>8</td>\n",
       "      <td>150.0</td>\n",
       "      <td>3436</td>\n",
       "      <td>11.0</td>\n",
       "      <td>70</td>\n",
       "      <td>1</td>\n",
       "    </tr>\n",
       "    <tr>\n",
       "      <th>3</th>\n",
       "      <td>304.0</td>\n",
       "      <td>8</td>\n",
       "      <td>150.0</td>\n",
       "      <td>3433</td>\n",
       "      <td>12.0</td>\n",
       "      <td>70</td>\n",
       "      <td>1</td>\n",
       "    </tr>\n",
       "    <tr>\n",
       "      <th>4</th>\n",
       "      <td>302.0</td>\n",
       "      <td>8</td>\n",
       "      <td>140.0</td>\n",
       "      <td>3449</td>\n",
       "      <td>10.5</td>\n",
       "      <td>70</td>\n",
       "      <td>1</td>\n",
       "    </tr>\n",
       "  </tbody>\n",
       "</table>\n",
       "</div>"
      ],
      "text/plain": [
       "   displacement  cylinders  horsepower  weight  acceleration  model_year  \\\n",
       "0         307.0          8       130.0    3504          12.0          70   \n",
       "1         350.0          8       165.0    3693          11.5          70   \n",
       "2         318.0          8       150.0    3436          11.0          70   \n",
       "3         304.0          8       150.0    3433          12.0          70   \n",
       "4         302.0          8       140.0    3449          10.5          70   \n",
       "\n",
       "   origin  \n",
       "0       1  \n",
       "1       1  \n",
       "2       1  \n",
       "3       1  \n",
       "4       1  "
      ]
     },
     "execution_count": 3,
     "metadata": {},
     "output_type": "execute_result"
    }
   ],
   "source": [
    "X.head()"
   ]
  },
  {
   "cell_type": "code",
   "execution_count": 4,
   "id": "bc6bfba5",
   "metadata": {
    "id": "bc6bfba5",
    "outputId": "cf00c6da-3384-41b4-ba21-58c94f1090fa"
   },
   "outputs": [
    {
     "data": {
      "text/html": [
       "<div>\n",
       "<style scoped>\n",
       "    .dataframe tbody tr th:only-of-type {\n",
       "        vertical-align: middle;\n",
       "    }\n",
       "\n",
       "    .dataframe tbody tr th {\n",
       "        vertical-align: top;\n",
       "    }\n",
       "\n",
       "    .dataframe thead th {\n",
       "        text-align: right;\n",
       "    }\n",
       "</style>\n",
       "<table border=\"1\" class=\"dataframe\">\n",
       "  <thead>\n",
       "    <tr style=\"text-align: right;\">\n",
       "      <th></th>\n",
       "      <th>mpg</th>\n",
       "    </tr>\n",
       "  </thead>\n",
       "  <tbody>\n",
       "    <tr>\n",
       "      <th>0</th>\n",
       "      <td>18.0</td>\n",
       "    </tr>\n",
       "    <tr>\n",
       "      <th>1</th>\n",
       "      <td>15.0</td>\n",
       "    </tr>\n",
       "    <tr>\n",
       "      <th>2</th>\n",
       "      <td>18.0</td>\n",
       "    </tr>\n",
       "    <tr>\n",
       "      <th>3</th>\n",
       "      <td>16.0</td>\n",
       "    </tr>\n",
       "    <tr>\n",
       "      <th>4</th>\n",
       "      <td>17.0</td>\n",
       "    </tr>\n",
       "  </tbody>\n",
       "</table>\n",
       "</div>"
      ],
      "text/plain": [
       "    mpg\n",
       "0  18.0\n",
       "1  15.0\n",
       "2  18.0\n",
       "3  16.0\n",
       "4  17.0"
      ]
     },
     "execution_count": 4,
     "metadata": {},
     "output_type": "execute_result"
    }
   ],
   "source": [
    "y.head()"
   ]
  },
  {
   "cell_type": "markdown",
   "id": "d3200c25-5a69-4971-9e21-604f063e73de",
   "metadata": {
    "id": "d3200c25-5a69-4971-9e21-604f063e73de"
   },
   "source": [
    "En este punto, puedes hacer cualquier otro análisis exploratorio que creas conveniente."
   ]
  },
  {
   "cell_type": "markdown",
   "id": "lSTI9jzFp76E",
   "metadata": {
    "id": "lSTI9jzFp76E"
   },
   "source": [
    "*Hago un 'describe'. Parece un dataset bastante limpio, con casi todas las columnas completas, y sin que haya apenas outliers. Las columnas 'model_year' y 'origin' son realmente discretas, pero no habría gran problema para utilizarlas.*"
   ]
  },
  {
   "cell_type": "code",
   "execution_count": 5,
   "id": "caee66f1-e04c-43c2-8a89-b821dcb24d9a",
   "metadata": {
    "colab": {
     "base_uri": "https://localhost:8080/",
     "height": 300
    },
    "executionInfo": {
     "elapsed": 95,
     "status": "ok",
     "timestamp": 1752575920283,
     "user": {
      "displayName": "Guillermo Barrio",
      "userId": "06925154007558381895"
     },
     "user_tz": -120
    },
    "id": "caee66f1-e04c-43c2-8a89-b821dcb24d9a",
    "outputId": "646f2f70-856e-456e-9439-35603b544619"
   },
   "outputs": [
    {
     "data": {
      "text/html": [
       "<div>\n",
       "<style scoped>\n",
       "    .dataframe tbody tr th:only-of-type {\n",
       "        vertical-align: middle;\n",
       "    }\n",
       "\n",
       "    .dataframe tbody tr th {\n",
       "        vertical-align: top;\n",
       "    }\n",
       "\n",
       "    .dataframe thead th {\n",
       "        text-align: right;\n",
       "    }\n",
       "</style>\n",
       "<table border=\"1\" class=\"dataframe\">\n",
       "  <thead>\n",
       "    <tr style=\"text-align: right;\">\n",
       "      <th></th>\n",
       "      <th>displacement</th>\n",
       "      <th>cylinders</th>\n",
       "      <th>horsepower</th>\n",
       "      <th>weight</th>\n",
       "      <th>acceleration</th>\n",
       "      <th>model_year</th>\n",
       "      <th>origin</th>\n",
       "    </tr>\n",
       "  </thead>\n",
       "  <tbody>\n",
       "    <tr>\n",
       "      <th>count</th>\n",
       "      <td>398.000000</td>\n",
       "      <td>398.000000</td>\n",
       "      <td>392.000000</td>\n",
       "      <td>398.000000</td>\n",
       "      <td>398.000000</td>\n",
       "      <td>398.000000</td>\n",
       "      <td>398.000000</td>\n",
       "    </tr>\n",
       "    <tr>\n",
       "      <th>mean</th>\n",
       "      <td>193.425879</td>\n",
       "      <td>5.454774</td>\n",
       "      <td>104.469388</td>\n",
       "      <td>2970.424623</td>\n",
       "      <td>15.568090</td>\n",
       "      <td>76.010050</td>\n",
       "      <td>1.572864</td>\n",
       "    </tr>\n",
       "    <tr>\n",
       "      <th>std</th>\n",
       "      <td>104.269838</td>\n",
       "      <td>1.701004</td>\n",
       "      <td>38.491160</td>\n",
       "      <td>846.841774</td>\n",
       "      <td>2.757689</td>\n",
       "      <td>3.697627</td>\n",
       "      <td>0.802055</td>\n",
       "    </tr>\n",
       "    <tr>\n",
       "      <th>min</th>\n",
       "      <td>68.000000</td>\n",
       "      <td>3.000000</td>\n",
       "      <td>46.000000</td>\n",
       "      <td>1613.000000</td>\n",
       "      <td>8.000000</td>\n",
       "      <td>70.000000</td>\n",
       "      <td>1.000000</td>\n",
       "    </tr>\n",
       "    <tr>\n",
       "      <th>25%</th>\n",
       "      <td>104.250000</td>\n",
       "      <td>4.000000</td>\n",
       "      <td>75.000000</td>\n",
       "      <td>2223.750000</td>\n",
       "      <td>13.825000</td>\n",
       "      <td>73.000000</td>\n",
       "      <td>1.000000</td>\n",
       "    </tr>\n",
       "    <tr>\n",
       "      <th>50%</th>\n",
       "      <td>148.500000</td>\n",
       "      <td>4.000000</td>\n",
       "      <td>93.500000</td>\n",
       "      <td>2803.500000</td>\n",
       "      <td>15.500000</td>\n",
       "      <td>76.000000</td>\n",
       "      <td>1.000000</td>\n",
       "    </tr>\n",
       "    <tr>\n",
       "      <th>75%</th>\n",
       "      <td>262.000000</td>\n",
       "      <td>8.000000</td>\n",
       "      <td>126.000000</td>\n",
       "      <td>3608.000000</td>\n",
       "      <td>17.175000</td>\n",
       "      <td>79.000000</td>\n",
       "      <td>2.000000</td>\n",
       "    </tr>\n",
       "    <tr>\n",
       "      <th>max</th>\n",
       "      <td>455.000000</td>\n",
       "      <td>8.000000</td>\n",
       "      <td>230.000000</td>\n",
       "      <td>5140.000000</td>\n",
       "      <td>24.800000</td>\n",
       "      <td>82.000000</td>\n",
       "      <td>3.000000</td>\n",
       "    </tr>\n",
       "  </tbody>\n",
       "</table>\n",
       "</div>"
      ],
      "text/plain": [
       "       displacement   cylinders  horsepower       weight  acceleration  \\\n",
       "count    398.000000  398.000000  392.000000   398.000000    398.000000   \n",
       "mean     193.425879    5.454774  104.469388  2970.424623     15.568090   \n",
       "std      104.269838    1.701004   38.491160   846.841774      2.757689   \n",
       "min       68.000000    3.000000   46.000000  1613.000000      8.000000   \n",
       "25%      104.250000    4.000000   75.000000  2223.750000     13.825000   \n",
       "50%      148.500000    4.000000   93.500000  2803.500000     15.500000   \n",
       "75%      262.000000    8.000000  126.000000  3608.000000     17.175000   \n",
       "max      455.000000    8.000000  230.000000  5140.000000     24.800000   \n",
       "\n",
       "       model_year      origin  \n",
       "count  398.000000  398.000000  \n",
       "mean    76.010050    1.572864  \n",
       "std      3.697627    0.802055  \n",
       "min     70.000000    1.000000  \n",
       "25%     73.000000    1.000000  \n",
       "50%     76.000000    1.000000  \n",
       "75%     79.000000    2.000000  \n",
       "max     82.000000    3.000000  "
      ]
     },
     "execution_count": 5,
     "metadata": {},
     "output_type": "execute_result"
    }
   ],
   "source": [
    "X.describe()"
   ]
  },
  {
   "cell_type": "markdown",
   "id": "Lp226yMOqnI8",
   "metadata": {
    "id": "Lp226yMOqnI8"
   },
   "source": [
    "*Tampoco hay nada raro en la columna Target. Solo reseñar que el consumos en EEUU se mide en millas por galón, por lo que un mayor consumo implica una MENOR cantidad de mpg, al contrario de lo que ocurre tal y como lo describimos en España. Este matiz hay que tenerlo en cuenta para evitar confusiones.*"
   ]
  },
  {
   "cell_type": "code",
   "execution_count": 6,
   "id": "35b10de0-ed71-41ac-a112-5346256f618c",
   "metadata": {
    "colab": {
     "base_uri": "https://localhost:8080/",
     "height": 300
    },
    "executionInfo": {
     "elapsed": 67,
     "status": "ok",
     "timestamp": 1752576044492,
     "user": {
      "displayName": "Guillermo Barrio",
      "userId": "06925154007558381895"
     },
     "user_tz": -120
    },
    "id": "35b10de0-ed71-41ac-a112-5346256f618c",
    "outputId": "62595186-d8b6-467e-8b63-280e49f7a257"
   },
   "outputs": [
    {
     "data": {
      "text/html": [
       "<div>\n",
       "<style scoped>\n",
       "    .dataframe tbody tr th:only-of-type {\n",
       "        vertical-align: middle;\n",
       "    }\n",
       "\n",
       "    .dataframe tbody tr th {\n",
       "        vertical-align: top;\n",
       "    }\n",
       "\n",
       "    .dataframe thead th {\n",
       "        text-align: right;\n",
       "    }\n",
       "</style>\n",
       "<table border=\"1\" class=\"dataframe\">\n",
       "  <thead>\n",
       "    <tr style=\"text-align: right;\">\n",
       "      <th></th>\n",
       "      <th>mpg</th>\n",
       "    </tr>\n",
       "  </thead>\n",
       "  <tbody>\n",
       "    <tr>\n",
       "      <th>count</th>\n",
       "      <td>398.000000</td>\n",
       "    </tr>\n",
       "    <tr>\n",
       "      <th>mean</th>\n",
       "      <td>23.514573</td>\n",
       "    </tr>\n",
       "    <tr>\n",
       "      <th>std</th>\n",
       "      <td>7.815984</td>\n",
       "    </tr>\n",
       "    <tr>\n",
       "      <th>min</th>\n",
       "      <td>9.000000</td>\n",
       "    </tr>\n",
       "    <tr>\n",
       "      <th>25%</th>\n",
       "      <td>17.500000</td>\n",
       "    </tr>\n",
       "    <tr>\n",
       "      <th>50%</th>\n",
       "      <td>23.000000</td>\n",
       "    </tr>\n",
       "    <tr>\n",
       "      <th>75%</th>\n",
       "      <td>29.000000</td>\n",
       "    </tr>\n",
       "    <tr>\n",
       "      <th>max</th>\n",
       "      <td>46.600000</td>\n",
       "    </tr>\n",
       "  </tbody>\n",
       "</table>\n",
       "</div>"
      ],
      "text/plain": [
       "              mpg\n",
       "count  398.000000\n",
       "mean    23.514573\n",
       "std      7.815984\n",
       "min      9.000000\n",
       "25%     17.500000\n",
       "50%     23.000000\n",
       "75%     29.000000\n",
       "max     46.600000"
      ]
     },
     "execution_count": 6,
     "metadata": {},
     "output_type": "execute_result"
    }
   ],
   "source": [
    "y.describe()"
   ]
  },
  {
   "cell_type": "markdown",
   "id": "f1937b9f",
   "metadata": {
    "id": "f1937b9f"
   },
   "source": [
    "A continuación, crea una función a la que le pases los dataframes de features y de target y el nombre de la variable y haga la gráfica del target (consumo en millas por galón) vs la variable que le ha llegado por parámetro. Puedes ver un ejemplo de gráfica más abajo, pero usa los parámetros que quieras en cuanto a color de los puntos, grids etc."
   ]
  },
  {
   "cell_type": "markdown",
   "id": "EsfFJ79IsZaN",
   "metadata": {
    "id": "EsfFJ79IsZaN"
   },
   "source": [
    "*He hecho la función 'visualiza' que crea un gráfico de puntos de color rojo entre la columna mpg y la que elijamos. Se muestran tres gráficos como ejemplo. En el primero y tercero queda claro la correlación entre más potencia y peso, y mayor consumo. Más curioso es el segundo, donde parecería que, a más aceleración, menos consumo; quizás se deba a que los coches pequeños y de menos peso aceleran más rápido pero consumen menos.*"
   ]
  },
  {
   "cell_type": "code",
   "execution_count": 7,
   "id": "13197dad",
   "metadata": {
    "colab": {
     "base_uri": "https://localhost:8080/",
     "height": 565
    },
    "executionInfo": {
     "elapsed": 355,
     "status": "ok",
     "timestamp": 1752576336284,
     "user": {
      "displayName": "Guillermo Barrio",
      "userId": "06925154007558381895"
     },
     "user_tz": -120
    },
    "id": "13197dad",
    "outputId": "ee17f47c-5e4b-49c8-a9b2-4b0e8ce54dd6"
   },
   "outputs": [
    {
     "data": {
      "image/png": "[encoded data removed]",
      "text/plain": [
       "<Figure size 1000x600 with 1 Axes>"
      ]
     },
     "metadata": {},
     "output_type": "display_data"
    }
   ],
   "source": [
    "import matplotlib.pyplot as plt\n",
    "\n",
    "def visualiza(df, y, nombre_columna):\n",
    "    plt.figure(figsize=(10, 6))\n",
    "    plt.scatter(X[nombre_columna], y, color = 'r')\n",
    "    plt.xlabel(nombre_columna)\n",
    "    plt.ylabel('MPG Consumption')\n",
    "    plt.title(f\"Gráfico de puntos relacionando MPG Consumption con {nombre_columna}\")\n",
    "    plt.show()\n",
    "\n",
    "visualiza(X, y, 'horsepower')"
   ]
  },
  {
   "cell_type": "code",
   "execution_count": 8,
   "id": "59db67f0",
   "metadata": {
    "colab": {
     "base_uri": "https://localhost:8080/",
     "height": 565
    },
    "executionInfo": {
     "elapsed": 327,
     "status": "ok",
     "timestamp": 1752576346614,
     "user": {
      "displayName": "Guillermo Barrio",
      "userId": "06925154007558381895"
     },
     "user_tz": -120
    },
    "id": "59db67f0",
    "outputId": "ed192c50-c28f-4cfd-e03a-05d366c43669"
   },
   "outputs": [
    {
     "data": {
      "image/png": "[encoded data removed]",
      "text/plain": [
       "<Figure size 1000x600 with 1 Axes>"
      ]
     },
     "metadata": {},
     "output_type": "display_data"
    }
   ],
   "source": [
    "visualiza(X, y, 'acceleration')"
   ]
  },
  {
   "cell_type": "code",
   "execution_count": 9,
   "id": "b61b921b",
   "metadata": {
    "colab": {
     "base_uri": "https://localhost:8080/",
     "height": 565
    },
    "executionInfo": {
     "elapsed": 379,
     "status": "ok",
     "timestamp": 1752578212012,
     "user": {
      "displayName": "Guillermo Barrio",
      "userId": "06925154007558381895"
     },
     "user_tz": -120
    },
    "id": "b61b921b",
    "outputId": "ee5be3b8-6daa-4a4e-afce-f3e980ccaede"
   },
   "outputs": [
    {
     "data": {
      "image/png": "[encoded data removed]",
      "text/plain": [
       "<Figure size 1000x600 with 1 Axes>"
      ]
     },
     "metadata": {},
     "output_type": "display_data"
    }
   ],
   "source": [
    "visualiza(X, y, 'weight')"
   ]
  },
  {
   "cell_type": "code",
   "execution_count": null,
   "id": "4f032ad4-5861-4a56-b63e-15a67f73608a",
   "metadata": {
    "id": "4f032ad4-5861-4a56-b63e-15a67f73608a"
   },
   "outputs": [],
   "source": []
  },
  {
   "cell_type": "markdown",
   "id": "jMreAIH4xRvH",
   "metadata": {
    "id": "jMreAIH4xRvH"
   },
   "source": [
    "*Podemos ver que hay una relación lineal descendente entre el peso y el mpg. O casi, porque al ser dos cantidades definidas positivas, el mpg se aplana a medida que el peso aumenta. La relación entre ambas variables se parecería más bien a una parábola de eje vertical.*"
   ]
  },
  {
   "cell_type": "markdown",
   "id": "GqpTeSZJx0QS",
   "metadata": {
    "id": "GqpTeSZJx0QS"
   },
   "source": [
    "*Podemos comprobar las correlaciones entre variables, incluyendo aquí tanto la target (mpg) como el resto de columnas. Hacemos pues una copia al dataframe X y añadimos la y, lamando al DF resultante X_completo.*"
   ]
  },
  {
   "cell_type": "code",
   "execution_count": 10,
   "id": "4e4fb202-d705-44fc-9393-6b2ebc02625c",
   "metadata": {
    "executionInfo": {
     "elapsed": 48,
     "status": "ok",
     "timestamp": 1752578223711,
     "user": {
      "displayName": "Guillermo Barrio",
      "userId": "06925154007558381895"
     },
     "user_tz": -120
    },
    "id": "4e4fb202-d705-44fc-9393-6b2ebc02625c"
   },
   "outputs": [],
   "source": [
    "X_completo = X.copy()"
   ]
  },
  {
   "cell_type": "code",
   "execution_count": 11,
   "id": "b4e16f1c-ac35-42d5-ad42-1be2cb22b14a",
   "metadata": {
    "executionInfo": {
     "elapsed": 7,
     "status": "ok",
     "timestamp": 1752578224996,
     "user": {
      "displayName": "Guillermo Barrio",
      "userId": "06925154007558381895"
     },
     "user_tz": -120
    },
    "id": "b4e16f1c-ac35-42d5-ad42-1be2cb22b14a"
   },
   "outputs": [],
   "source": [
    "X_completo['MPG'] = y"
   ]
  },
  {
   "cell_type": "code",
   "execution_count": 12,
   "id": "e479842c-6afa-44d5-97d9-e19b90c602e8",
   "metadata": {
    "colab": {
     "base_uri": "https://localhost:8080/",
     "height": 206
    },
    "executionInfo": {
     "elapsed": 96,
     "status": "ok",
     "timestamp": 1752578226473,
     "user": {
      "displayName": "Guillermo Barrio",
      "userId": "06925154007558381895"
     },
     "user_tz": -120
    },
    "id": "e479842c-6afa-44d5-97d9-e19b90c602e8",
    "outputId": "3d10b8e8-d220-4ddc-9bd2-b81e896db5a0"
   },
   "outputs": [
    {
     "data": {
      "text/html": [
       "<div>\n",
       "<style scoped>\n",
       "    .dataframe tbody tr th:only-of-type {\n",
       "        vertical-align: middle;\n",
       "    }\n",
       "\n",
       "    .dataframe tbody tr th {\n",
       "        vertical-align: top;\n",
       "    }\n",
       "\n",
       "    .dataframe thead th {\n",
       "        text-align: right;\n",
       "    }\n",
       "</style>\n",
       "<table border=\"1\" class=\"dataframe\">\n",
       "  <thead>\n",
       "    <tr style=\"text-align: right;\">\n",
       "      <th></th>\n",
       "      <th>displacement</th>\n",
       "      <th>cylinders</th>\n",
       "      <th>horsepower</th>\n",
       "      <th>weight</th>\n",
       "      <th>acceleration</th>\n",
       "      <th>model_year</th>\n",
       "      <th>origin</th>\n",
       "      <th>MPG</th>\n",
       "    </tr>\n",
       "  </thead>\n",
       "  <tbody>\n",
       "    <tr>\n",
       "      <th>0</th>\n",
       "      <td>307.0</td>\n",
       "      <td>8</td>\n",
       "      <td>130.0</td>\n",
       "      <td>3504</td>\n",
       "      <td>12.0</td>\n",
       "      <td>70</td>\n",
       "      <td>1</td>\n",
       "      <td>18.0</td>\n",
       "    </tr>\n",
       "    <tr>\n",
       "      <th>1</th>\n",
       "      <td>350.0</td>\n",
       "      <td>8</td>\n",
       "      <td>165.0</td>\n",
       "      <td>3693</td>\n",
       "      <td>11.5</td>\n",
       "      <td>70</td>\n",
       "      <td>1</td>\n",
       "      <td>15.0</td>\n",
       "    </tr>\n",
       "    <tr>\n",
       "      <th>2</th>\n",
       "      <td>318.0</td>\n",
       "      <td>8</td>\n",
       "      <td>150.0</td>\n",
       "      <td>3436</td>\n",
       "      <td>11.0</td>\n",
       "      <td>70</td>\n",
       "      <td>1</td>\n",
       "      <td>18.0</td>\n",
       "    </tr>\n",
       "    <tr>\n",
       "      <th>3</th>\n",
       "      <td>304.0</td>\n",
       "      <td>8</td>\n",
       "      <td>150.0</td>\n",
       "      <td>3433</td>\n",
       "      <td>12.0</td>\n",
       "      <td>70</td>\n",
       "      <td>1</td>\n",
       "      <td>16.0</td>\n",
       "    </tr>\n",
       "    <tr>\n",
       "      <th>4</th>\n",
       "      <td>302.0</td>\n",
       "      <td>8</td>\n",
       "      <td>140.0</td>\n",
       "      <td>3449</td>\n",
       "      <td>10.5</td>\n",
       "      <td>70</td>\n",
       "      <td>1</td>\n",
       "      <td>17.0</td>\n",
       "    </tr>\n",
       "  </tbody>\n",
       "</table>\n",
       "</div>"
      ],
      "text/plain": [
       "   displacement  cylinders  horsepower  weight  acceleration  model_year  \\\n",
       "0         307.0          8       130.0    3504          12.0          70   \n",
       "1         350.0          8       165.0    3693          11.5          70   \n",
       "2         318.0          8       150.0    3436          11.0          70   \n",
       "3         304.0          8       150.0    3433          12.0          70   \n",
       "4         302.0          8       140.0    3449          10.5          70   \n",
       "\n",
       "   origin   MPG  \n",
       "0       1  18.0  \n",
       "1       1  15.0  \n",
       "2       1  18.0  \n",
       "3       1  16.0  \n",
       "4       1  17.0  "
      ]
     },
     "execution_count": 12,
     "metadata": {},
     "output_type": "execute_result"
    }
   ],
   "source": [
    "X_completo.head()"
   ]
  },
  {
   "cell_type": "code",
   "execution_count": null,
   "id": "63d252d5-90a0-4b1b-a87f-2a9c23f65563",
   "metadata": {
    "id": "63d252d5-90a0-4b1b-a87f-2a9c23f65563"
   },
   "outputs": [],
   "source": []
  },
  {
   "cell_type": "markdown",
   "id": "DEYGfZrLyTIh",
   "metadata": {
    "id": "DEYGfZrLyTIh"
   },
   "source": [
    "*Calculamos la matriz de correlaciones a través de pandas. Lo cierto es que todas las columnas presentan una gran correlación con la de mpg, solo con la excepción quizás de 'acceleration'. La más alta es precisamente la de 'weight' con un 0.83, lo cual es difícil de mejorar, a menos que, en principio, pongamos una columna adicional para darle el efecto de relación parabólica.'*"
   ]
  },
  {
   "cell_type": "code",
   "execution_count": 13,
   "id": "d9856d1b-31ed-48be-b3b5-967e8e7ef437",
   "metadata": {
    "id": "d9856d1b-31ed-48be-b3b5-967e8e7ef437",
    "outputId": "7544b548-38a5-4ae1-de02-847a2fba956c"
   },
   "outputs": [
    {
     "name": "stdout",
     "output_type": "stream",
     "text": [
      "              displacement  cylinders  horsepower    weight  acceleration  \\\n",
      "displacement      1.000000   0.950721    0.897257  0.932824     -0.543684   \n",
      "cylinders         0.950721   1.000000    0.842983  0.896017     -0.505419   \n",
      "horsepower        0.897257   0.842983    1.000000  0.864538     -0.689196   \n",
      "weight            0.932824   0.896017    0.864538  1.000000     -0.417457   \n",
      "acceleration     -0.543684  -0.505419   -0.689196 -0.417457      1.000000   \n",
      "model_year       -0.370164  -0.348746   -0.416361 -0.306564      0.288137   \n",
      "origin           -0.609409  -0.562543   -0.455171 -0.581024      0.205873   \n",
      "MPG              -0.804203  -0.775396   -0.778427 -0.831741      0.420289   \n",
      "\n",
      "              model_year    origin       MPG  \n",
      "displacement   -0.370164 -0.609409 -0.804203  \n",
      "cylinders      -0.348746 -0.562543 -0.775396  \n",
      "horsepower     -0.416361 -0.455171 -0.778427  \n",
      "weight         -0.306564 -0.581024 -0.831741  \n",
      "acceleration    0.288137  0.205873  0.420289  \n",
      "model_year      1.000000  0.180662  0.579267  \n",
      "origin          0.180662  1.000000  0.563450  \n",
      "MPG             0.579267  0.563450  1.000000  \n"
     ]
    }
   ],
   "source": [
    "correlation_matrix = X_completo.corr()\n",
    "print(correlation_matrix)"
   ]
  },
  {
   "cell_type": "code",
   "execution_count": null,
   "id": "a516ded0-3620-4b0d-a98c-4e9f957f60f0",
   "metadata": {
    "id": "a516ded0-3620-4b0d-a98c-4e9f957f60f0"
   },
   "outputs": [],
   "source": []
  },
  {
   "cell_type": "markdown",
   "id": "eBWB3um7B3B1",
   "metadata": {
    "id": "eBWB3um7B3B1"
   },
   "source": [
    "*para cuando añadamos esta columna (peso al cuadrado) la podemos añadir ya al DF X_completo. Pero anteriormente dividimos la columna de peso por 1.000 para que su cuadrado no tenga una magnitud tan alta.*"
   ]
  },
  {
   "cell_type": "code",
   "execution_count": 14,
   "id": "bbb67587-f1e7-4cf9-acdb-d998fc991207",
   "metadata": {
    "executionInfo": {
     "elapsed": 9,
     "status": "ok",
     "timestamp": 1752578783761,
     "user": {
      "displayName": "Guillermo Barrio",
      "userId": "06925154007558381895"
     },
     "user_tz": -120
    },
    "id": "bbb67587-f1e7-4cf9-acdb-d998fc991207"
   },
   "outputs": [],
   "source": [
    "X_completo['weight'] = X_completo['weight'] / 1000"
   ]
  },
  {
   "cell_type": "code",
   "execution_count": 15,
   "id": "7eb89470-f59c-42dd-88db-ca73a550f07c",
   "metadata": {
    "executionInfo": {
     "elapsed": 8,
     "status": "ok",
     "timestamp": 1752578785129,
     "user": {
      "displayName": "Guillermo Barrio",
      "userId": "06925154007558381895"
     },
     "user_tz": -120
    },
    "id": "7eb89470-f59c-42dd-88db-ca73a550f07c"
   },
   "outputs": [],
   "source": [
    "X_completo['weight_2'] = X_completo['weight'] ** 2"
   ]
  },
  {
   "cell_type": "code",
   "execution_count": 16,
   "id": "827468dc-0fe6-4526-8f50-9b76039bdcda",
   "metadata": {
    "colab": {
     "base_uri": "https://localhost:8080/",
     "height": 206
    },
    "executionInfo": {
     "elapsed": 75,
     "status": "ok",
     "timestamp": 1752581764099,
     "user": {
      "displayName": "Guillermo Barrio",
      "userId": "06925154007558381895"
     },
     "user_tz": -120
    },
    "id": "827468dc-0fe6-4526-8f50-9b76039bdcda",
    "outputId": "ae244e91-a116-4de0-89f2-f885c2760ad6"
   },
   "outputs": [
    {
     "data": {
      "text/html": [
       "<div>\n",
       "<style scoped>\n",
       "    .dataframe tbody tr th:only-of-type {\n",
       "        vertical-align: middle;\n",
       "    }\n",
       "\n",
       "    .dataframe tbody tr th {\n",
       "        vertical-align: top;\n",
       "    }\n",
       "\n",
       "    .dataframe thead th {\n",
       "        text-align: right;\n",
       "    }\n",
       "</style>\n",
       "<table border=\"1\" class=\"dataframe\">\n",
       "  <thead>\n",
       "    <tr style=\"text-align: right;\">\n",
       "      <th></th>\n",
       "      <th>displacement</th>\n",
       "      <th>cylinders</th>\n",
       "      <th>horsepower</th>\n",
       "      <th>weight</th>\n",
       "      <th>acceleration</th>\n",
       "      <th>model_year</th>\n",
       "      <th>origin</th>\n",
       "      <th>MPG</th>\n",
       "      <th>weight_2</th>\n",
       "    </tr>\n",
       "  </thead>\n",
       "  <tbody>\n",
       "    <tr>\n",
       "      <th>0</th>\n",
       "      <td>307.0</td>\n",
       "      <td>8</td>\n",
       "      <td>130.0</td>\n",
       "      <td>3.504</td>\n",
       "      <td>12.0</td>\n",
       "      <td>70</td>\n",
       "      <td>1</td>\n",
       "      <td>18.0</td>\n",
       "      <td>12.278016</td>\n",
       "    </tr>\n",
       "    <tr>\n",
       "      <th>1</th>\n",
       "      <td>350.0</td>\n",
       "      <td>8</td>\n",
       "      <td>165.0</td>\n",
       "      <td>3.693</td>\n",
       "      <td>11.5</td>\n",
       "      <td>70</td>\n",
       "      <td>1</td>\n",
       "      <td>15.0</td>\n",
       "      <td>13.638249</td>\n",
       "    </tr>\n",
       "    <tr>\n",
       "      <th>2</th>\n",
       "      <td>318.0</td>\n",
       "      <td>8</td>\n",
       "      <td>150.0</td>\n",
       "      <td>3.436</td>\n",
       "      <td>11.0</td>\n",
       "      <td>70</td>\n",
       "      <td>1</td>\n",
       "      <td>18.0</td>\n",
       "      <td>11.806096</td>\n",
       "    </tr>\n",
       "    <tr>\n",
       "      <th>3</th>\n",
       "      <td>304.0</td>\n",
       "      <td>8</td>\n",
       "      <td>150.0</td>\n",
       "      <td>3.433</td>\n",
       "      <td>12.0</td>\n",
       "      <td>70</td>\n",
       "      <td>1</td>\n",
       "      <td>16.0</td>\n",
       "      <td>11.785489</td>\n",
       "    </tr>\n",
       "    <tr>\n",
       "      <th>4</th>\n",
       "      <td>302.0</td>\n",
       "      <td>8</td>\n",
       "      <td>140.0</td>\n",
       "      <td>3.449</td>\n",
       "      <td>10.5</td>\n",
       "      <td>70</td>\n",
       "      <td>1</td>\n",
       "      <td>17.0</td>\n",
       "      <td>11.895601</td>\n",
       "    </tr>\n",
       "  </tbody>\n",
       "</table>\n",
       "</div>"
      ],
      "text/plain": [
       "   displacement  cylinders  horsepower  weight  acceleration  model_year  \\\n",
       "0         307.0          8       130.0   3.504          12.0          70   \n",
       "1         350.0          8       165.0   3.693          11.5          70   \n",
       "2         318.0          8       150.0   3.436          11.0          70   \n",
       "3         304.0          8       150.0   3.433          12.0          70   \n",
       "4         302.0          8       140.0   3.449          10.5          70   \n",
       "\n",
       "   origin   MPG   weight_2  \n",
       "0       1  18.0  12.278016  \n",
       "1       1  15.0  13.638249  \n",
       "2       1  18.0  11.806096  \n",
       "3       1  16.0  11.785489  \n",
       "4       1  17.0  11.895601  "
      ]
     },
     "execution_count": 16,
     "metadata": {},
     "output_type": "execute_result"
    }
   ],
   "source": [
    "X_completo.head()"
   ]
  },
  {
   "cell_type": "code",
   "execution_count": null,
   "id": "027eef5b-caa1-41ae-90a0-5d551c12e1f3",
   "metadata": {
    "id": "027eef5b-caa1-41ae-90a0-5d551c12e1f3"
   },
   "outputs": [],
   "source": []
  },
  {
   "cell_type": "markdown",
   "id": "5d52295e-3ae0-41e4-acce-0fad24a4cadb",
   "metadata": {
    "id": "5d52295e-3ae0-41e4-acce-0fad24a4cadb"
   },
   "source": [
    "IMPORTANTE: Aunque lo ideal sería un modelo multivariante, vamos a elegir la variable `weight` y hacer una regresión lineal solo con esta variable."
   ]
  },
  {
   "cell_type": "markdown",
   "id": "58c9aff9",
   "metadata": {
    "id": "58c9aff9"
   },
   "source": [
    "### 1.2 Implementación del modelo\n",
    "\n",
    "En este punto vamos a dar un paso atrás y olvidarnos de los datos de consumo por un momento, porque el algoritmo que vamos a implementar serviría para cualquier conjunto de datos.\n",
    "\n",
    "Lo primero, implementa una función que devuelva los valores de $\\widehat{w}$ dados X e y. Si se da el caso de que el dataset tiene más features que observaciones, queremos transponerlo antes de realizar las operaciones. Lo hacemos porque, como vimos en clase, los resultados no van a ser buenos si el número de observaciones es menor."
   ]
  },
  {
   "cell_type": "markdown",
   "id": "3Q1Tl5PACZX8",
   "metadata": {
    "id": "3Q1Tl5PACZX8"
   },
   "source": [
    "*Revisamos la dimensión de la DF X.*"
   ]
  },
  {
   "cell_type": "code",
   "execution_count": 17,
   "id": "3a9e0beb-9283-455d-b8e1-116f46a7d853",
   "metadata": {
    "colab": {
     "base_uri": "https://localhost:8080/"
    },
    "executionInfo": {
     "elapsed": 55,
     "status": "ok",
     "timestamp": 1752582412297,
     "user": {
      "displayName": "Guillermo Barrio",
      "userId": "06925154007558381895"
     },
     "user_tz": -120
    },
    "id": "3a9e0beb-9283-455d-b8e1-116f46a7d853",
    "outputId": "398938b8-fbd0-4782-af0d-cdfd5bcfcea4"
   },
   "outputs": [
    {
     "data": {
      "text/plain": [
       "(398, 7)"
      ]
     },
     "execution_count": 17,
     "metadata": {},
     "output_type": "execute_result"
    }
   ],
   "source": [
    "X.shape"
   ]
  },
  {
   "cell_type": "markdown",
   "id": "VLbW64JBChju",
   "metadata": {
    "id": "VLbW64JBChju"
   },
   "source": [
    "*A continuación, completamos la función pesos_ols siguiendo los pasos dados y lo que se puede encontrar en cuadernos de clase.*"
   ]
  },
  {
   "cell_type": "code",
   "execution_count": 18,
   "id": "741a496b",
   "metadata": {
    "executionInfo": {
     "elapsed": 11,
     "status": "ok",
     "timestamp": 1752582416121,
     "user": {
      "displayName": "Guillermo Barrio",
      "userId": "06925154007558381895"
     },
     "user_tz": -120
    },
    "id": "741a496b"
   },
   "outputs": [],
   "source": [
    "import numpy as np\n",
    "\n",
    "def pesos_ols(X, y):\n",
    "    # Implementa la fórmula matricial\n",
    "\n",
    "\n",
    "    # TODO 1 Comprueba que las dimensiones son adecuadas y corrige si no es así\n",
    "    if X.shape[1] > X.shape[0]:\n",
    "        X = X.T\n",
    "\n",
    "    # TODO 2 Prepara la matriz X para que tenga la forma adecuada para aplicar la fórmula\n",
    "\n",
    "    ones = np.ones((X.shape[0],1))\n",
    "    X_b = np.hstack((ones, X))\n",
    "\n",
    "    # TODO 3 Calcula los pesos\n",
    "\n",
    "    w = np.linalg.inv((X_b.T@ X_b)) @ X_b.T @ y\n",
    "\n",
    "    return w"
   ]
  },
  {
   "cell_type": "markdown",
   "id": "041DUYqBC29e",
   "metadata": {
    "id": "041DUYqBC29e"
   },
   "source": [
    "*Probamos el array de prueba y la función da el resultado correcto.*"
   ]
  },
  {
   "cell_type": "code",
   "execution_count": 19,
   "id": "20ebe4da",
   "metadata": {
    "colab": {
     "base_uri": "https://localhost:8080/"
    },
    "executionInfo": {
     "elapsed": 12,
     "status": "ok",
     "timestamp": 1752582420116,
     "user": {
      "displayName": "Guillermo Barrio",
      "userId": "06925154007558381895"
     },
     "user_tz": -120
    },
    "id": "20ebe4da",
    "outputId": "93cb0ee8-0a3c-4bc8-f8a8-f95926116bb9"
   },
   "outputs": [
    {
     "data": {
      "text/plain": [
       "array([-2.29223802e+06,  5.92536529e+01,  1.20780450e+03])"
      ]
     },
     "execution_count": 19,
     "metadata": {},
     "output_type": "execute_result"
    }
   ],
   "source": [
    "# Array de prueba!!\n",
    "X = np.array([[1710, 1262, 1786, 1717, 2198, 1362, 1694, 2090, 1774, 1077],\n",
    "              [2003, 1976, 2001, 1915, 2000, 1993, 2004, 1973, 1931, 1939]])\n",
    "y = np.array([208500, 181500, 223500, 140000, 250000, 143000, 307000, 200000, 129900, 118000])\n",
    "pesos_ols(X, y)"
   ]
  },
  {
   "cell_type": "markdown",
   "id": "ae19e4b9-8ea8-4678-86f9-b05a460fc57c",
   "metadata": {
    "id": "ae19e4b9-8ea8-4678-86f9-b05a460fc57c"
   },
   "source": [
    "Hemos implementado el algoritmo de mínimos cuadrados y lo hemos probado en un array de tamaño 2x10. Como pista, el resultado que he obtenido para este array de prueba es el siguiente:\n",
    "\n",
    "array([-2.29223802e+06,  5.92536529e+01,  1.20780450e+03])"
   ]
  },
  {
   "cell_type": "markdown",
   "id": "5cb5c0f5",
   "metadata": {
    "id": "5cb5c0f5"
   },
   "source": [
    "### 1.3 Prueba del modelo en los datos de consumo de coches\n",
    "\n",
    "Ya podemos usar nuestra función `pesos` en el dataset real que hemos descargado, el de consumo de combustible. Para ver el ajuste, dibuja de nuevo los datos junto con la recta que has obtenido, en la misma gráfica. Tendrás que convertir los dataframes de Pandas en arrays de numpy para poder aplicar las operaciones matriciales.\n",
    "\n",
    "TIP: Revisa las dimensiones de todos los arrays para ver que son correctas."
   ]
  },
  {
   "cell_type": "markdown",
   "id": "c1723edd-42c9-4d65-9d18-0665ba760b03",
   "metadata": {
    "id": "c1723edd-42c9-4d65-9d18-0665ba760b03"
   },
   "source": [
    "### 1.3 Prueba del modelo en los datos de consumo de coches\n",
    "\n",
    "Ya podemos usar nuestra función `pesos` en el dataset real que hemos descargado, el de consumo de combustible. Para ver el ajuste, dibuja de nuevo los datos junto con la recta que has obtenido, en la misma gráfica. Tendrás que convertir los dataframes de Pandas en arrays de numpy para poder aplicar las operaciones matriciales.\n",
    "\n",
    "TIP: Revisa las dimensiones de todos los arrays para ver que son correctas."
   ]
  },
  {
   "cell_type": "markdown",
   "id": "6PebnXhcDvJ4",
   "metadata": {
    "id": "6PebnXhcDvJ4"
   },
   "source": [
    "*Implementamos el modelo de consunmo de coches en función de su peso. Efectivamente, hay que tener cuidado con las dimensiones de los arrays en numpy.*"
   ]
  },
  {
   "cell_type": "code",
   "execution_count": 21,
   "id": "53cebe34",
   "metadata": {
    "colab": {
     "base_uri": "https://localhost:8080/",
     "height": 542
    },
    "executionInfo": {
     "elapsed": 208,
     "status": "ok",
     "timestamp": 1752589849072,
     "user": {
      "displayName": "Guillermo Barrio",
      "userId": "06925154007558381895"
     },
     "user_tz": -120
    },
    "id": "53cebe34",
    "outputId": "bbf17a63-4477-4892-9fa8-b075fb389e80"
   },
   "outputs": [
    {
     "data": {
      "image/png": "[encoded data removed]",
      "text/plain": [
       "<Figure size 1000x600 with 1 Axes>"
      ]
     },
     "metadata": {},
     "output_type": "display_data"
    }
   ],
   "source": [
    "# TODO Aplica el modelo y dibuja la recta junto con los datos\n",
    "\n",
    "X = auto_mpg.data.features['weight']\n",
    "y = auto_mpg.data.targets\n",
    "\n",
    "# Transformamos los dataframes to numpy, adaptando las dimensiones de X para que se pueda enviar a pesos_ols\n",
    "X = X.to_numpy()\n",
    "X = X.reshape(X.shape[0], 1)\n",
    "y = y.to_numpy()\n",
    "\n",
    "# Obtenemos los pesos del modelo, y hacemos un reshape para leerlos de forma más cómoda\n",
    "pesos = pesos_ols(X, y).reshape(2,)\n",
    "\n",
    "#  Identificamos los pesos como punto de corte el primero y pendiente el segundo\n",
    "punto_corte = pesos[0]\n",
    "pendiente = pesos[1]\n",
    "\n",
    "# Definimos las x e y de la recta que buscamos con el modelo\n",
    "x_plot = np.array([0, -punto_corte / pendiente])\n",
    "y_plot = np.array([punto_corte, 0])\n",
    "\n",
    "# Pintamos los puntos y la recta, con un grosor de 3. Sale por defecto de color azul\n",
    "plt.figure(figsize=(10, 6))\n",
    "plt.scatter(X, y, color = 'r')\n",
    "plt.xlabel('weight')\n",
    "plt.ylabel('MPG Consumption')\n",
    "plt.title(f\"Gráfico de puntos relacionando MPG Consumption con weight, con recta que las correlaciona\")\n",
    "\n",
    "# Esta es la recta, que dibujamos con la funcion plt.plot\n",
    "plt.plot(x_plot, y_plot, lw = 3)\n",
    "plt.xlim(min(X)*0.9, max(X)*1.1)\n",
    "plt.ylim(min(y)*0.9, max(y)*1.1)\n",
    "plt.show()\n",
    "\n"
   ]
  },
  {
   "cell_type": "markdown",
   "id": "QrzepI-5E7AV",
   "metadata": {
    "id": "QrzepI-5E7AV"
   },
   "source": [
    "*Lo cierto es que queda bastante bien, aunque parecería que los outliers, por llamarlos así, con un mpg relativamente alto, tiende a 'elevar' la recta.*"
   ]
  },
  {
   "cell_type": "markdown",
   "id": "p4F6lGyNFdpr",
   "metadata": {
    "id": "p4F6lGyNFdpr"
   },
   "source": [
    "*Podemos ver los coeficientes. Lo cierto es que el término independiente es 46,32 y la pendiente es de -0,00768. El hecho de que la relación entre ellos sea de 1:6.000 me temo que puede crear bastantes problemas cuando apliquemos el descenso de gradiente.*  "
   ]
  },
  {
   "cell_type": "code",
   "execution_count": 22,
   "id": "12c52da6-286f-4519-873c-2842048b6359",
   "metadata": {
    "id": "12c52da6-286f-4519-873c-2842048b6359",
    "outputId": "cd8ef331-afe9-4ddb-998b-6b8026caf27e"
   },
   "outputs": [
    {
     "data": {
      "text/plain": [
       "array([ 4.63173644e+01, -7.67661006e-03])"
      ]
     },
     "execution_count": 22,
     "metadata": {},
     "output_type": "execute_result"
    }
   ],
   "source": [
    "pesos"
   ]
  },
  {
   "cell_type": "markdown",
   "id": "88fcbf61",
   "metadata": {
    "id": "88fcbf61"
   },
   "source": [
    "Por último, vamos a comprar el resultado con el que nos da `scikit-learn`para ver si nuestra implementación tiene buena pinta. Podemos ver cómo funciona en la [documentación](https://scikit-learn.org/stable/modules/generated/sklearn.linear_model.LinearRegression.html)."
   ]
  },
  {
   "cell_type": "markdown",
   "id": "vuAh1jozGj9F",
   "metadata": {
    "id": "vuAh1jozGj9F"
   },
   "source": [
    "*Aplicamos el modelo de LinearRegression de SKlearn, que está basado en scipy.linalg.lstsq. Lo cierto es que, como cabía esperar, el resultado es el mismo, ya que el método utilizado es completamente determinista.*"
   ]
  },
  {
   "cell_type": "code",
   "execution_count": 23,
   "id": "3d07cb49",
   "metadata": {
    "colab": {
     "base_uri": "https://localhost:8080/"
    },
    "executionInfo": {
     "elapsed": 1333,
     "status": "ok",
     "timestamp": 1752584222930,
     "user": {
      "displayName": "Guillermo Barrio",
      "userId": "06925154007558381895"
     },
     "user_tz": -120
    },
    "id": "3d07cb49",
    "outputId": "52639eaa-216f-479a-df4f-67f62f7ba832"
   },
   "outputs": [
    {
     "name": "stdout",
     "output_type": "stream",
     "text": [
      "Punto de corte: [46.31736442]\n",
      "Pendiente: [[-0.00767661]]\n"
     ]
    }
   ],
   "source": [
    "from sklearn.linear_model import LinearRegression\n",
    "\n",
    "# Creamos el objeto\n",
    "lr = LinearRegression()\n",
    "\n",
    "# Le pasamos los datos en el formato correcto\n",
    "X = auto_mpg.data.features\n",
    "y = auto_mpg.data.targets\n",
    "\n",
    "X_lr = X[['weight']]\n",
    "y_lr = y\n",
    "\n",
    "# Entrenamos con los datos\n",
    "lr.fit(X_lr,y_lr)\n",
    "print(\"Punto de corte:\", lr.intercept_)\n",
    "print(\"Pendiente:\", lr.coef_)"
   ]
  },
  {
   "cell_type": "markdown",
   "id": "a2571861",
   "metadata": {
    "id": "a2571861"
   },
   "source": [
    "**TODO**: Analiza el resultado obtenido y compáralo con el de sklearn"
   ]
  },
  {
   "cell_type": "markdown",
   "id": "4aa24d2c",
   "metadata": {
    "id": "4aa24d2c"
   },
   "source": [
    "### 1.4 Compara el método de mínimos cuadrados y el descenso del gradiente para obtener los coeficientes de una regresión lineal\n",
    "\n"
   ]
  },
  {
   "cell_type": "markdown",
   "id": "3e9b06f2",
   "metadata": {
    "id": "3e9b06f2"
   },
   "source": [
    "*El método de los mínimos cuadrados minimiza el error cuadrático medio de una forma determinista, y digamos que exacta: aplica una fórmula matricial deducida mediante análisis. El problema que presenta es que para una gran cantidad de observaciones y de variables a determinar, el esfuerzo de invertir matrices puede ser demasiado costoso. Como alternativa tenemos el descenso de gradiente, que no deja de ser un método de aproximaciones sucesivas, menos exigente computacionalmente, pero con el inconveniente de que no es determinista, puede determinar solo mínimos locales, o puede simplemente no converger en absoluto dependiendo por ejemplo del punto de partida que tomemos.*"
   ]
  },
  {
   "cell_type": "markdown",
   "id": "7BmH0bx-IqZa",
   "metadata": {
    "id": "7BmH0bx-IqZa"
   },
   "source": [
    "*A continuación pasamos a la optimización con descenso de gradiente. Como he mencionado, lo he implementado de forma algo diferente, pues he calculado el gradiente a partir de las derivadas parciales del RSS respecto a los pesos, y, por lo tanto, no he utilizado la ecuación matricial dada en la celda siguiente.*"
   ]
  },
  {
   "cell_type": "markdown",
   "id": "77098377",
   "metadata": {
    "id": "77098377"
   },
   "source": [
    "## 2. Optimización con descenso del gradiente\n",
    "\n",
    "Vamos a resolver el mismo problema usando el descenso del gradiente en lugar de la solución analítica. El descenso del gradiente es un método de optimización iterativo que usa el operador gradiente.\n",
    "\n",
    "Como es iterativo, necesitamos decirle cuándo tiene que parar y darnos la solución. En este caso, le vamos a decir que pare y nos devuelva la solución después de un número de iteraciones que le pasaremos como parámetro. La ecuación iterativa es.\n",
    "\n",
    "$$w^{t+1} = w^t - \\eta \\cdot \\nabla f(w)$$\n",
    "\n",
    "donde f es nuestra función objetivo, y w es un vector. Para la función objetivo, vamos a usar el error RSS, que querremos minimizar.\n",
    "\n",
    "$$ RSS(w) = \\frac{1}{2}\\sum_{n=1}^{N}[y_n-f(x_n)]^2$$\n",
    "\n",
    "y cuyo gradiente es:\n",
    "\n",
    "$$\\nabla RSS(w) = X^T(Xw^t-y)$$\n",
    "\n",
    "TIP: Ten en cuenta que el RSS también lo puedes escribir como $\\frac{1}{2}\\sum_{n=1}^{N}[y_n-\\hat{y_n}]^2$ donde $\\hat{y_n} = X \\hat{w}$ en cada paso."
   ]
  },
  {
   "cell_type": "markdown",
   "id": "446ad8dd",
   "metadata": {
    "id": "446ad8dd"
   },
   "source": [
    "### 2.1 Implementar el descenso del gradiente\n",
    "\n",
    "Completa las siguientes funciones para implementar el descenso del gradiente con la función objetivo de la regresión lineal. La función necesitará:\n",
    "\n",
    "- La entrada X y salida y de la regresión\n",
    "- Un punto inicial desde el que empezar a iterar\n",
    "- El número de iteraciones\n",
    "- El learning rate\n",
    "\n",
    "La función nos devolverá un array con las w resultantes de las iteraciones y otro con el valor de la función en cada paso del algoritmo, a la que también se conoce como *loss function*."
   ]
  },
  {
   "cell_type": "markdown",
   "id": "P5W5bskbJS78",
   "metadata": {
    "id": "P5W5bskbJS78"
   },
   "source": [
    "*En conjunto, he definido tres funciones:*\n",
    "\n",
    "- Cálculo del RSS\n",
    "- Cálculo de las derivadas parciales del RSS respecto a los pesos\n",
    "- Implementación del descenso de gradientes propiamente dicho\n",
    "\n",
    "*Para estas dos últimas funciones he definido inicialmente la versión aplicable a dos dimensiones, como es explícitamente el problema que tenemos, pasando a continuación a definirlas para n dimensiones.*"
   ]
  },
  {
   "cell_type": "markdown",
   "id": "9FuLBze8KSbn",
   "metadata": {
    "id": "9FuLBze8KSbn"
   },
   "source": [
    "*El primer paso que hemos efectuado, de todas formas, es la estadarización de la columna del peso de los coches, algo que se hace en el enunciado de la práctica también.*\n",
    "\n",
    "*Este proceso es obligatorio antes de implementar muchos modelos, desde luego todos aquellos donde intervenga la distancia entre puntos, es decir, entre filas del dataframe. En el resto, que incluyen la regresión lineal, no influye en teoría, pero es conveniente hacerlo.*\n",
    "\n",
    "*Mi experiencia personal es que, al menos en la regresión logística, es bastante conveniente, en especial si las columnas tienen distintos órdenes de magnitud.*\n",
    "\n",
    "*Lo cierto es que intenté calcular el descenso de gradiente con el dataframe X sin estandarizar, y me fue imposible que convegiese.*"
   ]
  },
  {
   "cell_type": "code",
   "execution_count": 24,
   "id": "a216e85e-a49c-48f2-a668-36afc6e1a31b",
   "metadata": {
    "executionInfo": {
     "elapsed": 20,
     "status": "ok",
     "timestamp": 1752584540875,
     "user": {
      "displayName": "Guillermo Barrio",
      "userId": "06925154007558381895"
     },
     "user_tz": -120
    },
    "id": "a216e85e-a49c-48f2-a668-36afc6e1a31b"
   },
   "outputs": [],
   "source": [
    "X = auto_mpg.data.features['weight']\n",
    "y = auto_mpg.data.targets\n",
    "\n",
    "X = X.to_numpy()\n",
    "X = X.reshape(X.shape[0], 1)\n",
    "\n",
    "X_gd = (X - X.mean()) / X.std()\n",
    "\n",
    "y = y.to_numpy()"
   ]
  },
  {
   "cell_type": "markdown",
   "id": "horjX9fZLbdX",
   "metadata": {
    "id": "horjX9fZLbdX"
   },
   "source": [
    "*Para tomar como referencia, podemos calcular los coeficientes ya con X estandarizada mediante SKlearn. Como cabia esperar, su orden de magnitud es mucho más parejo que anteriormente.*"
   ]
  },
  {
   "cell_type": "code",
   "execution_count": 25,
   "id": "09848ae4-3a02-4619-81e4-b3fe1eb519d5",
   "metadata": {
    "colab": {
     "base_uri": "https://localhost:8080/"
    },
    "executionInfo": {
     "elapsed": 15,
     "status": "ok",
     "timestamp": 1752585093125,
     "user": {
      "displayName": "Guillermo Barrio",
      "userId": "06925154007558381895"
     },
     "user_tz": -120
    },
    "id": "09848ae4-3a02-4619-81e4-b3fe1eb519d5",
    "outputId": "50fefe35-a077-4aa4-eedf-bffd5dcec121"
   },
   "outputs": [
    {
     "name": "stdout",
     "output_type": "stream",
     "text": [
      "Punto de corte: [23.51457286]\n",
      "Pendiente: [[-6.49270202]]\n"
     ]
    }
   ],
   "source": [
    "lr.fit(X_gd,y)\n",
    "print(\"Punto de corte:\", lr.intercept_)\n",
    "print(\"Pendiente:\", lr.coef_)"
   ]
  },
  {
   "cell_type": "markdown",
   "id": "d98f7bbd-ef6f-4586-a5d7-9da45ffd1668",
   "metadata": {
    "id": "d98f7bbd-ef6f-4586-a5d7-9da45ffd1668"
   },
   "source": [
    "*Definimos a continuación la funcion de cálculo del RSS, que no tiene mayor misterio: se le introducen el vector de coeficientes w, el array X y el array y, se calcula el RSS tras añadir una columna de 1s a X y hacer el producto matricial.*"
   ]
  },
  {
   "cell_type": "code",
   "execution_count": 26,
   "id": "3b821a3f-c25b-4752-a2c2-98ce4d24b564",
   "metadata": {
    "executionInfo": {
     "elapsed": 66,
     "status": "ok",
     "timestamp": 1752585207644,
     "user": {
      "displayName": "Guillermo Barrio",
      "userId": "06925154007558381895"
     },
     "user_tz": -120
    },
    "id": "3b821a3f-c25b-4752-a2c2-98ce4d24b564"
   },
   "outputs": [],
   "source": [
    "def calculo_rss(w, X, y):\n",
    "    ones = np.ones((X.shape[0],1))\n",
    "    X_b = np.hstack((ones, X))\n",
    "    rss = 0.5 * sum((y - X_b @ w) ** 2)\n",
    "\n",
    "    return rss.reshape(1,)[0]"
   ]
  },
  {
   "cell_type": "code",
   "execution_count": null,
   "id": "359aba9b-41da-4873-b052-ed18dccbe6bf",
   "metadata": {
    "executionInfo": {
     "elapsed": 9,
     "status": "ok",
     "timestamp": 1752585209305,
     "user": {
      "displayName": "Guillermo Barrio",
      "userId": "06925154007558381895"
     },
     "user_tz": -120
    },
    "id": "359aba9b-41da-4873-b052-ed18dccbe6bf"
   },
   "outputs": [],
   "source": []
  },
  {
   "cell_type": "markdown",
   "id": "cGP0jTVtPFLI",
   "metadata": {
    "id": "cGP0jTVtPFLI"
   },
   "source": [
    "*Probamos el cálculo del RSS, primero con unas w tomadas casi al azar, y con los coeficientes que hemos obtenido anteriormente, que son los que dan un RSS mínimo.*"
   ]
  },
  {
   "cell_type": "code",
   "execution_count": 27,
   "id": "d5131fb7-0fb2-4c93-85c5-31f094080a65",
   "metadata": {
    "colab": {
     "base_uri": "https://localhost:8080/"
    },
    "executionInfo": {
     "elapsed": 59,
     "status": "ok",
     "timestamp": 1752585211106,
     "user": {
      "displayName": "Guillermo Barrio",
      "userId": "06925154007558381895"
     },
     "user_tz": -120
    },
    "id": "d5131fb7-0fb2-4c93-85c5-31f094080a65",
    "outputId": "f6966c31-8b90-481c-82ec-99068d28734d"
   },
   "outputs": [
    {
     "data": {
      "text/plain": [
       "36208200.35415906"
      ]
     },
     "execution_count": 27,
     "metadata": {},
     "output_type": "execute_result"
    }
   ],
   "source": [
    "calculo_rss(np.array([450, -0.00001]).reshape(2,1), X_gd, y)"
   ]
  },
  {
   "cell_type": "code",
   "execution_count": 28,
   "id": "35576f72-7c8f-4c86-bbf0-a739badd3c7e",
   "metadata": {
    "colab": {
     "base_uri": "https://localhost:8080/"
    },
    "executionInfo": {
     "elapsed": 17,
     "status": "ok",
     "timestamp": 1752585479098,
     "user": {
      "displayName": "Guillermo Barrio",
      "userId": "06925154007558381895"
     },
     "user_tz": -120
    },
    "id": "35576f72-7c8f-4c86-bbf0-a739badd3c7e",
    "outputId": "7d8e5220-b122-43a6-b7b4-12c1ddd01a26"
   },
   "outputs": [
    {
     "data": {
      "text/plain": [
       "3737.4126213819673"
      ]
     },
     "execution_count": 28,
     "metadata": {},
     "output_type": "execute_result"
    }
   ],
   "source": [
    "calculo_rss(np.array([23.51, -6.49]).reshape(2,1), X_gd, y)"
   ]
  },
  {
   "cell_type": "code",
   "execution_count": null,
   "id": "Mu3MSGbpO6WC",
   "metadata": {
    "id": "Mu3MSGbpO6WC"
   },
   "outputs": [],
   "source": []
  },
  {
   "cell_type": "markdown",
   "id": "2vK7oxrXP0WK",
   "metadata": {
    "id": "2vK7oxrXP0WK"
   },
   "source": [
    "*Ahora vamos con la función derivada_rss, que calcula las derivadas parciales de RSS respecto a los pesos en w, en este caso para dos dimensiones, w0 y w1. La derivada la calculamos sugún la definición original también: cociente de la variación de la función en función de una variación de la variable independiente, entre la variación de la variable independiente.*\n",
    "\n",
    "*Por supuesto, para el cálculo de la derivada de RSS utilizamos repetidamente la función de cálculo del RSS, que hemos definido con anterioridad.*"
   ]
  },
  {
   "cell_type": "code",
   "execution_count": 29,
   "id": "36804242-1b58-4a61-b9cb-09240935d6ff",
   "metadata": {
    "executionInfo": {
     "elapsed": 10,
     "status": "ok",
     "timestamp": 1752586309141,
     "user": {
      "displayName": "Guillermo Barrio",
      "userId": "06925154007558381895"
     },
     "user_tz": -120
    },
    "id": "36804242-1b58-4a61-b9cb-09240935d6ff"
   },
   "outputs": [],
   "source": [
    "def derivada_rss(w, X, y):\n",
    "\n",
    "    # Tomamos k como el incremento proporcional de la variable independiente pata calcular la derivada\n",
    "    k = 0.0000001\n",
    "\n",
    "    # Valor inicial de RSS que tomamos como base para calcular las derivadas parciales\n",
    "    rss_inicial = calculo_rss(w, X, y)\n",
    "\n",
    "    # Desempaquetamos los dos coeficientes\n",
    "    w0 = w.reshape(2, )[0]\n",
    "    w1 = w.reshape(2, )[1]\n",
    "\n",
    "    # Calculamos el vector w modificado con los incrementos de los dos coeficientes\n",
    "    w_inc_w0 = w + np.array([w0 * k, 0]).reshape(2,1)\n",
    "    w_inc_w1 = w + np.array([0, w1 * k]).reshape(2,1)\n",
    "\n",
    "    # Calculamos sendas derivadas parciales\n",
    "    d_rss_dw0 = (calculo_rss(w_inc_w0, X, y) - rss_inicial) / (w0 * k)\n",
    "    d_rss_dw1 = (calculo_rss(w_inc_w1, X, y) - rss_inicial) / (w1 * k)\n",
    "\n",
    "    # Devolvemos las derivadas parciales con el formato para ser sumadas fácilmente en el descenso de gradientes\n",
    "    return np.array([d_rss_dw0, d_rss_dw1]).reshape(2,1)\n"
   ]
  },
  {
   "cell_type": "markdown",
   "id": "Q3Z9NNnBSnJC",
   "metadata": {
    "id": "Q3Z9NNnBSnJC"
   },
   "source": [
    "*Calculamos las derivadas en un punto cualquiera y en el que hace el RSS mínimo, que muestra un dato muy pequeño, casi cero, lo cual era lo esperable.*"
   ]
  },
  {
   "cell_type": "code",
   "execution_count": 30,
   "id": "e986a30c-a346-4bca-9400-c409e0136b13",
   "metadata": {
    "colab": {
     "base_uri": "https://localhost:8080/"
    },
    "executionInfo": {
     "elapsed": 15,
     "status": "ok",
     "timestamp": 1752586367168,
     "user": {
      "displayName": "Guillermo Barrio",
      "userId": "06925154007558381895"
     },
     "user_tz": -120
    },
    "id": "e986a30c-a346-4bca-9400-c409e0136b13",
    "outputId": "2176e466-d9a2-4ff3-edb4-52e397f30fce"
   },
   "outputs": [
    {
     "data": {
      "text/plain": [
       "array([[169741.20951361],\n",
       "       [  7450.58059692]])"
      ]
     },
     "execution_count": 30,
     "metadata": {},
     "output_type": "execute_result"
    }
   ],
   "source": [
    "derivada_rss(np.array([450, -0.00001]).reshape(2,1), X_gd, y)"
   ]
  },
  {
   "cell_type": "code",
   "execution_count": 31,
   "id": "BXzdNru-SdK8",
   "metadata": {
    "colab": {
     "base_uri": "https://localhost:8080/"
    },
    "executionInfo": {
     "elapsed": 15,
     "status": "ok",
     "timestamp": 1752586496621,
     "user": {
      "displayName": "Guillermo Barrio",
      "userId": "06925154007558381895"
     },
     "user_tz": -120
    },
    "id": "BXzdNru-SdK8",
    "outputId": "11863b22-fc03-4ce8-fc86-0579fab36478"
   },
   "outputs": [
    {
     "data": {
      "text/plain": [
       "array([[0.01126706],\n",
       "       [0.00067799]])"
      ]
     },
     "execution_count": 31,
     "metadata": {},
     "output_type": "execute_result"
    }
   ],
   "source": [
    "derivada_rss(np.array([23.5146, -6.4927]).reshape(2,1), X_gd, y)"
   ]
  },
  {
   "cell_type": "markdown",
   "id": "BQlDerxdTZfh",
   "metadata": {
    "id": "BQlDerxdTZfh"
   },
   "source": [
    "*Finalmente, definimos nuestra función de descenso de gradiente. Introducimos un vector de pesos inicial w, así como los arrays X e y, así como el learning rate eta. Además, se define una tolerancia tol, que detiene el descenso de gradiente cuando las magnitudes de w y el producto eta x derivada tengan una relación a tol, aunque no hayamos llegado a la última iteración.*"
   ]
  },
  {
   "cell_type": "code",
   "execution_count": 32,
   "id": "bc38081d-478b-4b1d-889d-6499a156110a",
   "metadata": {
    "executionInfo": {
     "elapsed": 9,
     "status": "ok",
     "timestamp": 1752587209175,
     "user": {
      "displayName": "Guillermo Barrio",
      "userId": "06925154007558381895"
     },
     "user_tz": -120
    },
    "id": "bc38081d-478b-4b1d-889d-6499a156110a"
   },
   "outputs": [],
   "source": [
    "def descenso_gradiente(w, X, y, iteraciones, eta, tol):\n",
    "\n",
    "    # Iniciamos las iteraciones en cero\n",
    "    iter = 0\n",
    "\n",
    "    # Para comparar las magnitudes de w y eta x derivada utilizamos la variable 'var', que inicializamos en 1000 veces tol\n",
    "    var = tol * 1000\n",
    "\n",
    "    # El descenso de gradiente funciona mientras no se alcancen las iteraciones o la tolerancia\n",
    "    while (iter < iteraciones) and (var > tol):\n",
    "\n",
    "        # Vamos calculando la derivada en cada punto de w, y sumanmos el producto por eta\n",
    "        derivada = derivada_rss(w, X, y)\n",
    "        w = w - eta * derivada\n",
    "\n",
    "        # Calculamos en cada paso los módulos de w y del producto eta x derivada\n",
    "        modulo_w = ((w.T @ w).reshape(1,)[0]) ** (0.5)\n",
    "        modulo_eta_derivada = ( (derivada.T @ derivada).reshape(1,)[0] * (eta ** 2) ) ** (0.5)\n",
    "\n",
    "        # 'var' es la relación entre ambas\n",
    "        var = (modulo_eta_derivada / modulo_w)\n",
    "\n",
    "        iter += 1\n",
    "\n",
    "    # Devolvemos el vector w solución, el número de iteraciones, y los dos módulos mencionados\n",
    "    return w, iter, modulo_eta_derivada, modulo_w\n"
   ]
  },
  {
   "cell_type": "markdown",
   "id": "GNnm23PkV2XN",
   "metadata": {
    "id": "GNnm23PkV2XN"
   },
   "source": [
    "*Definimos los w iniciales, que pueden ser cualesquiera siempre que no sean cero, así como los otros parámetros.*"
   ]
  },
  {
   "cell_type": "code",
   "execution_count": 33,
   "id": "97c2cdc0-f809-4240-b8c4-8af4b3a3f3e7",
   "metadata": {
    "executionInfo": {
     "elapsed": 10,
     "status": "ok",
     "timestamp": 1752587397681,
     "user": {
      "displayName": "Guillermo Barrio",
      "userId": "06925154007558381895"
     },
     "user_tz": -120
    },
    "id": "97c2cdc0-f809-4240-b8c4-8af4b3a3f3e7"
   },
   "outputs": [],
   "source": [
    "w_inicial = np.array([10.0, -1.0], dtype = float).reshape(2, 1)\n",
    "iteraciones = 1000\n",
    "eta = 0.0001\n",
    "tol = 1e-12"
   ]
  },
  {
   "cell_type": "markdown",
   "id": "J8FYU_yIW8zv",
   "metadata": {
    "id": "J8FYU_yIW8zv"
   },
   "source": [
    "*Ejecutamos el modelo y da un resultado idéntico al de SKlearn en algo más de 500 iteraciones.*"
   ]
  },
  {
   "cell_type": "code",
   "execution_count": 34,
   "id": "fdc5a5dc-c6f2-4fa6-a1ef-f7c65830db5e",
   "metadata": {
    "colab": {
     "base_uri": "https://localhost:8080/"
    },
    "executionInfo": {
     "elapsed": 459,
     "status": "ok",
     "timestamp": 1752587401541,
     "user": {
      "displayName": "Guillermo Barrio",
      "userId": "06925154007558381895"
     },
     "user_tz": -120
    },
    "id": "fdc5a5dc-c6f2-4fa6-a1ef-f7c65830db5e",
    "outputId": "6eb9118b-d13e-4720-9328-dd49c7969b0c"
   },
   "outputs": [
    {
     "data": {
      "text/plain": [
       "(array([[23.51457169],\n",
       "        [-6.4927017 ]]),\n",
       " 557,\n",
       " 1.933895955877632e-11,\n",
       " 24.394471851262264)"
      ]
     },
     "execution_count": 34,
     "metadata": {},
     "output_type": "execute_result"
    }
   ],
   "source": [
    "descenso_gradiente(w_inicial, X_gd, y, iteraciones, eta, tol)"
   ]
  },
  {
   "cell_type": "code",
   "execution_count": null,
   "id": "6564f128-d139-41c9-ac09-c19812836642",
   "metadata": {
    "id": "6564f128-d139-41c9-ac09-c19812836642"
   },
   "outputs": [],
   "source": []
  },
  {
   "cell_type": "markdown",
   "id": "P_IaRn-_XJKw",
   "metadata": {
    "id": "P_IaRn-_XJKw"
   },
   "source": [
    "*Podemos ponerlo en algo más bonito de la siguiente forma.*"
   ]
  },
  {
   "cell_type": "code",
   "execution_count": 35,
   "id": "x7zReFUTWvOv",
   "metadata": {
    "colab": {
     "base_uri": "https://localhost:8080/"
    },
    "executionInfo": {
     "elapsed": 449,
     "status": "ok",
     "timestamp": 1752587547101,
     "user": {
      "displayName": "Guillermo Barrio",
      "userId": "06925154007558381895"
     },
     "user_tz": -120
    },
    "id": "x7zReFUTWvOv",
    "outputId": "45447c26-1182-4aaf-cfad-1e2ac3827978"
   },
   "outputs": [
    {
     "name": "stdout",
     "output_type": "stream",
     "text": [
      "Se ha obtenido una estimación de los coeficientes w0 y w1 de [23.514571686444157, -6.492701695373479] tras 557 iteraciones\n"
     ]
    }
   ],
   "source": [
    "w_resultado, iter, _, _ = descenso_gradiente(w_inicial, X_gd, y, iteraciones, eta, tol)\n",
    "\n",
    "print(f'Se ha obtenido una estimación de los coeficientes w0 y w1 de {w_resultado.flatten().tolist()} tras {iter} iteraciones')"
   ]
  },
  {
   "cell_type": "code",
   "execution_count": null,
   "id": "e0b55a63-3c54-48ba-af40-46c1bfa96bee",
   "metadata": {
    "id": "e0b55a63-3c54-48ba-af40-46c1bfa96bee"
   },
   "outputs": [],
   "source": []
  },
  {
   "cell_type": "code",
   "execution_count": null,
   "id": "58737212-7d94-4721-96cc-f1ef898e3c2e",
   "metadata": {
    "id": "58737212-7d94-4721-96cc-f1ef898e3c2e"
   },
   "outputs": [],
   "source": []
  },
  {
   "cell_type": "markdown",
   "id": "yRgbgGy2YIEc",
   "metadata": {
    "id": "yRgbgGy2YIEc"
   },
   "source": [
    "*Pasamos ahora a generalizar la función de cálculo de derivadas para n dimensiones. Lo que hacemos es calcular un vector con las derivadas parciales, que tiene igual dimensión que el vector w. El método per se de cálculo de derivadas es el mismo.*"
   ]
  },
  {
   "cell_type": "code",
   "execution_count": 38,
   "id": "435f2845-a331-447d-a489-cecb206faadd",
   "metadata": {
    "executionInfo": {
     "elapsed": 12,
     "status": "ok",
     "timestamp": 1752588307695,
     "user": {
      "displayName": "Guillermo Barrio",
      "userId": "06925154007558381895"
     },
     "user_tz": -120
    },
    "id": "435f2845-a331-447d-a489-cecb206faadd"
   },
   "outputs": [],
   "source": [
    "def derivada_rss_ndim(w, X, y):\n",
    "\n",
    "\n",
    "    # Definimos un k similar al caso de dos dimensiones\n",
    "    k = 0.00000001\n",
    "\n",
    "    # Calculamos también el RSS inicial\n",
    "    rss_inicial = calculo_rss(w, X, y)\n",
    "\n",
    "    # Determinamos el número de dimensiones, ndim, para poder iterar sobre ellas\n",
    "    ndim = w.shape[0]\n",
    "\n",
    "    # Inicializamos la lista donde almacenaremos las derivadas parciales\n",
    "    lista_deriv = []\n",
    "\n",
    "\n",
    "\n",
    "    # Aunque no es estrictamente necesario, hacemos una copia del vector w\n",
    "    dif = w.copy()\n",
    "    # Nos aseguramos que es un float para que funcione bien la función\n",
    "    dif = dif.astype(float)     \n",
    "\n",
    "    for i in range(ndim):\n",
    "\n",
    "        # Aunque no es estrictamente necesario, hacemos una copia del vector w\n",
    "        #dif = w.copy()\n",
    "\n",
    "        # Variamos la componente de la cual estamos calculando la derivada\n",
    "        dif[i] = dif[i] + dif[i] * k\n",
    "        # Calculamos la derivada\n",
    "        d_rss_dwi = (calculo_rss(dif, X, y) - rss_inicial) / (w[i] * k)\n",
    "\n",
    "        # Volvemos a poner el vector en su valor inicial\n",
    "        dif[i] = dif[i] - dif[i] * k\n",
    "\n",
    "        # Almacenamos la derivada parcial en la lista\n",
    "        lista_deriv.append(d_rss_dwi)\n",
    "\n",
    "    # Devolvemos la lista de derivadas parciales como un numpy array\n",
    "    return np.array(lista_deriv).reshape(ndim,1)\n"
   ]
  },
  {
   "cell_type": "markdown",
   "id": "dAZ0ekz4aAbT",
   "metadata": {
    "id": "dAZ0ekz4aAbT"
   },
   "source": [
    "*Probamos esta nueva función con los mismo datos que la de dos dimensiones y obtenemos los mismos resultados.*"
   ]
  },
  {
   "cell_type": "code",
   "execution_count": 39,
   "id": "53f63a0b-8c84-4f76-b666-7efad2e1cbf9",
   "metadata": {
    "colab": {
     "base_uri": "https://localhost:8080/"
    },
    "executionInfo": {
     "elapsed": 81,
     "status": "ok",
     "timestamp": 1752588387760,
     "user": {
      "displayName": "Guillermo Barrio",
      "userId": "06925154007558381895"
     },
     "user_tz": -120
    },
    "id": "53f63a0b-8c84-4f76-b666-7efad2e1cbf9",
    "outputId": "373588cf-a847-44c2-91fd-24650be34ebd"
   },
   "outputs": [
    {
     "data": {
      "text/plain": [
       "array([[0.01085108],\n",
       "       [0.00078445]])"
      ]
     },
     "execution_count": 39,
     "metadata": {},
     "output_type": "execute_result"
    }
   ],
   "source": [
    "w_inicial = np.array([23.5146, -6.4927], dtype = float).reshape(2, 1)\n",
    "\n",
    "derivada_rss_ndim(w_inicial, X_gd, y)"
   ]
  },
  {
   "cell_type": "code",
   "execution_count": null,
   "id": "c2a41cbe-7757-4f92-b12d-2e1f35a6da1a",
   "metadata": {
    "id": "c2a41cbe-7757-4f92-b12d-2e1f35a6da1a"
   },
   "outputs": [],
   "source": []
  },
  {
   "cell_type": "markdown",
   "id": "UBRFxnPiaaeo",
   "metadata": {
    "id": "UBRFxnPiaaeo"
   },
   "source": [
    "*La función del descenso de gradiente con n dimensiones es, en realidad, casi idéntica a la de dos dimensiones.*"
   ]
  },
  {
   "cell_type": "code",
   "execution_count": 40,
   "id": "11f4f38b-54a7-4c5e-8b31-7fd4a7f00254",
   "metadata": {
    "executionInfo": {
     "elapsed": 9,
     "status": "ok",
     "timestamp": 1752585305154,
     "user": {
      "displayName": "Guillermo Barrio",
      "userId": "06925154007558381895"
     },
     "user_tz": -120
    },
    "id": "11f4f38b-54a7-4c5e-8b31-7fd4a7f00254"
   },
   "outputs": [],
   "source": [
    "def descenso_gradiente_ndim(w, X, y, iteraciones, eta, tol):\n",
    "\n",
    "    iter = 0\n",
    "\n",
    "    var = tol * 1000\n",
    "\n",
    "    while (iter < iteraciones) and (var > tol):\n",
    "        derivada = derivada_rss_ndim(w, X, y)\n",
    "        w = w - eta * derivada\n",
    "\n",
    "        modulo_w = ((w.T @ w).reshape(1,)[0]) ** (0.5)\n",
    "        modulo_eta_derivada = ( (derivada.T @ derivada).reshape(1,)[0] * (eta ** 2) ) ** (0.5)\n",
    "\n",
    "        #print(modulo_eta_derivada)\n",
    "\n",
    "        var = (modulo_eta_derivada / modulo_w)\n",
    "\n",
    "        iter += 1\n",
    "\n",
    "    return w, iter, modulo_eta_derivada, modulo_w"
   ]
  },
  {
   "cell_type": "code",
   "execution_count": null,
   "id": "a70894bb-1e69-4053-8057-403249ccc6d0",
   "metadata": {
    "executionInfo": {
     "elapsed": 9,
     "status": "ok",
     "timestamp": 1752585307927,
     "user": {
      "displayName": "Guillermo Barrio",
      "userId": "06925154007558381895"
     },
     "user_tz": -120
    },
    "id": "a70894bb-1e69-4053-8057-403249ccc6d0"
   },
   "outputs": [],
   "source": []
  },
  {
   "cell_type": "markdown",
   "id": "73Ppqw6_azE3",
   "metadata": {
    "id": "73Ppqw6_azE3"
   },
   "source": [
    "*Probamos esta funcion de descenso de gradiente generalizada, y obtenemos en realidad los mismos resultados que con la de dos dimensiones, aunque hay muy ligeras variaciones en el número de iteraciones.*"
   ]
  },
  {
   "cell_type": "code",
   "execution_count": 44,
   "id": "b36bc102-fba2-44d6-b4f4-41f07e64cce8",
   "metadata": {
    "executionInfo": {
     "elapsed": 11,
     "status": "ok",
     "timestamp": 1752588527708,
     "user": {
      "displayName": "Guillermo Barrio",
      "userId": "06925154007558381895"
     },
     "user_tz": -120
    },
    "id": "b36bc102-fba2-44d6-b4f4-41f07e64cce8"
   },
   "outputs": [],
   "source": [
    "w_inicial = np.array([10.0, 6.0]).reshape(2, 1)\n",
    "iteraciones = 1000\n",
    "eta = 0.0001\n",
    "tol = 1e-12"
   ]
  },
  {
   "cell_type": "code",
   "execution_count": 45,
   "id": "Za9LDWWIbVja",
   "metadata": {
    "colab": {
     "base_uri": "https://localhost:8080/"
    },
    "executionInfo": {
     "elapsed": 1236,
     "status": "ok",
     "timestamp": 1752588769851,
     "user": {
      "displayName": "Guillermo Barrio",
      "userId": "06925154007558381895"
     },
     "user_tz": -120
    },
    "id": "Za9LDWWIbVja",
    "outputId": "4aceb4d7-9246-4814-af0f-1237f1b5eecd"
   },
   "outputs": [
    {
     "name": "stdout",
     "output_type": "stream",
     "text": [
      "Se ha obtenido una estimación de los coeficientes w0, w1, ..., wn de [23.51457274381301, -6.4927020080146605] tras 536 iteraciones\n"
     ]
    }
   ],
   "source": [
    "w_resultado_ndim, iter, _, _ = descenso_gradiente_ndim(w_inicial, X_gd, y, iteraciones, eta, tol)\n",
    "\n",
    "print(f'Se ha obtenido una estimación de los coeficientes w0, w1, ..., wn de {w_resultado_ndim.flatten().tolist()} tras {iter} iteraciones')"
   ]
  },
  {
   "cell_type": "code",
   "execution_count": 46,
   "id": "13e27dd7-ef6a-4071-bcf8-f1b1f2e743f4",
   "metadata": {
    "colab": {
     "base_uri": "https://localhost:8080/"
    },
    "executionInfo": {
     "elapsed": 683,
     "status": "ok",
     "timestamp": 1752588740486,
     "user": {
      "displayName": "Guillermo Barrio",
      "userId": "06925154007558381895"
     },
     "user_tz": -120
    },
    "id": "13e27dd7-ef6a-4071-bcf8-f1b1f2e743f4",
    "outputId": "c164f4af-e4b6-4c0e-f074-a4c4eb433e5d"
   },
   "outputs": [
    {
     "name": "stdout",
     "output_type": "stream",
     "text": [
      "Se ha obtenido una estimación de los coeficientes w0, w1, ..., wn de [23.514571687238245, -6.492701698341718] tras 565 iteraciones\n"
     ]
    }
   ],
   "source": [
    "w_resultado, iter, _, _ = descenso_gradiente(w_inicial, X_gd, y, iteraciones, eta, tol)\n",
    "\n",
    "print(f'Se ha obtenido una estimación de los coeficientes w0, w1, ..., wn de {w_resultado.flatten().tolist()} tras {iter} iteraciones')"
   ]
  },
  {
   "cell_type": "markdown",
   "id": "jvijzDkgbp-q",
   "metadata": {
    "id": "jvijzDkgbp-q"
   },
   "source": [
    "*Podemos pintar la recta que hemos obtenido con los coeficientes calculados por descenso de gradiente, y de facto se trata de la misma recta, solo que con los datos de X estandarizados.*"
   ]
  },
  {
   "cell_type": "code",
   "execution_count": 48,
   "id": "8ef73c53-9e04-4435-930a-11069723c436",
   "metadata": {
    "colab": {
     "base_uri": "https://localhost:8080/",
     "height": 542
    },
    "executionInfo": {
     "elapsed": 377,
     "status": "ok",
     "timestamp": 1752589064624,
     "user": {
      "displayName": "Guillermo Barrio",
      "userId": "06925154007558381895"
     },
     "user_tz": -120
    },
    "id": "8ef73c53-9e04-4435-930a-11069723c436",
    "outputId": "a4179fab-0019-4cc3-952f-78cbdb675182"
   },
   "outputs": [
    {
     "data": {
      "image/png": "[encoded data removed]",
      "text/plain": [
       "<Figure size 1000x600 with 1 Axes>"
      ]
     },
     "metadata": {},
     "output_type": "display_data"
    }
   ],
   "source": [
    "pesos = w_resultado.reshape(2,)\n",
    "\n",
    "# Desempaquetamos los parámetros\n",
    "punto_corte_est = pesos[0]\n",
    "pendiente_est = pesos[1]\n",
    "\n",
    "# Calculamos el punto inicial de la recta a la izquierda\n",
    "x_ini = min(X_gd)[0] * 0.9\n",
    "y_ini = punto_corte_est + pendiente_est * x_ini\n",
    "\n",
    "# Definimos las coordenadas de la recta\n",
    "x_plot = np.array([x_ini, -punto_corte_est / pendiente_est])\n",
    "y_plot = np.array([y_ini, 0])\n",
    "\n",
    "# Pintamos los puntos y la recta\n",
    "plt.figure(figsize=(10, 6))\n",
    "plt.scatter(X_gd, y, color = 'r')\n",
    "plt.xlabel('weight')\n",
    "plt.ylabel('MPG Consumption')\n",
    "plt.title(f\"Gráfico de puntos relacionando MPG Consumption con weight, con recta que las correlaciona\")\n",
    "plt.plot(x_plot, y_plot, lw = 3)\n",
    "plt.xlim(min(X_gd)*0.9, max(X_gd)*1.1)\n",
    "plt.ylim(min(y)*0.9, max(y)*1.1)\n",
    "plt.show()"
   ]
  },
  {
   "cell_type": "code",
   "execution_count": null,
   "id": "4a0acfc8-4998-4d9d-bac7-6b1bb89b3941",
   "metadata": {
    "id": "4a0acfc8-4998-4d9d-bac7-6b1bb89b3941"
   },
   "outputs": [],
   "source": []
  },
  {
   "cell_type": "code",
   "execution_count": null,
   "id": "ebeae2eb-a7b6-4a5a-8d0b-f87fd2f7660f",
   "metadata": {
    "id": "ebeae2eb-a7b6-4a5a-8d0b-f87fd2f7660f"
   },
   "outputs": [],
   "source": []
  },
  {
   "cell_type": "markdown",
   "id": "QUa8KA4Oc-tz",
   "metadata": {
    "id": "QUa8KA4Oc-tz"
   },
   "source": [
    "## 3. Modelización Cuadrática del peso y el consumo de coches"
   ]
  },
  {
   "cell_type": "markdown",
   "id": "ksh49VgSdK_j",
   "metadata": {
    "id": "ksh49VgSdK_j"
   },
   "source": [
    "*Ya vimos que podría haber una mejora del modelo lineal entre el peso de los coches y su consumo si considerásemos una parábola en vez de una recta. Ello lo podemos llevar a cabo considerando una columna con el cuadrado de los pesos, que ya definimos dentro del DF X_completo.*"
   ]
  },
  {
   "cell_type": "code",
   "execution_count": 49,
   "id": "2a7fe1e6-2d99-4ab8-9bf8-fdc85a53a438",
   "metadata": {
    "colab": {
     "base_uri": "https://localhost:8080/"
    },
    "executionInfo": {
     "elapsed": 12,
     "status": "ok",
     "timestamp": 1752585359974,
     "user": {
      "displayName": "Guillermo Barrio",
      "userId": "06925154007558381895"
     },
     "user_tz": -120
    },
    "id": "2a7fe1e6-2d99-4ab8-9bf8-fdc85a53a438",
    "outputId": "8bf0f2f6-1efa-478a-9f1f-c4a77a6bfa28"
   },
   "outputs": [
    {
     "data": {
      "text/plain": [
       "Index(['displacement', 'cylinders', 'horsepower', 'weight', 'acceleration',\n",
       "       'model_year', 'origin', 'MPG', 'weight_2'],\n",
       "      dtype='object')"
      ]
     },
     "execution_count": 49,
     "metadata": {},
     "output_type": "execute_result"
    }
   ],
   "source": [
    "X_completo.columns"
   ]
  },
  {
   "cell_type": "markdown",
   "id": "05qvB9jgdnT1",
   "metadata": {
    "id": "05qvB9jgdnT1"
   },
   "source": [
    "*Comenzamos quedándonos con las dos columnas que nos interesan: weight y weight_2, que representan el peso y el peso al cuadrado. También las transformamos en arrays de numpy.*"
   ]
  },
  {
   "cell_type": "code",
   "execution_count": 50,
   "id": "b9d1a183-096d-4d3c-bb25-cea82c9345b1",
   "metadata": {
    "executionInfo": {
     "elapsed": 17,
     "status": "ok",
     "timestamp": 1752585361807,
     "user": {
      "displayName": "Guillermo Barrio",
      "userId": "06925154007558381895"
     },
     "user_tz": -120
    },
    "id": "b9d1a183-096d-4d3c-bb25-cea82c9345b1"
   },
   "outputs": [],
   "source": [
    "X_new = X_completo[['weight', 'weight_2']]\n",
    "\n",
    "X_new = X_new.to_numpy()\n",
    "X_new = X_new.reshape(X_new.shape[0], 2)\n",
    "\n",
    "y = auto_mpg.data.targets\n",
    "\n",
    "y = y.to_numpy()"
   ]
  },
  {
   "cell_type": "markdown",
   "id": "ibFaasqei7kf",
   "metadata": {
    "id": "ibFaasqei7kf"
   },
   "source": [
    "### 3.1 Regresión Lineal con mínimos cuadrados"
   ]
  },
  {
   "cell_type": "markdown",
   "id": "UahFg5Afeb0O",
   "metadata": {
    "id": "UahFg5Afeb0O"
   },
   "source": [
    "*Nos centramos incialmente en la regresión lineal y para ello calculamos los pesos con la función pesos_ols. Nos da un coeficiente del peso al cuadrado positivo.*"
   ]
  },
  {
   "cell_type": "code",
   "execution_count": 51,
   "id": "702a8aa4-04ba-471e-abab-fbb3db8d60fa",
   "metadata": {
    "colab": {
     "base_uri": "https://localhost:8080/"
    },
    "executionInfo": {
     "elapsed": 24,
     "status": "ok",
     "timestamp": 1752585363980,
     "user": {
      "displayName": "Guillermo Barrio",
      "userId": "06925154007558381895"
     },
     "user_tz": -120
    },
    "id": "702a8aa4-04ba-471e-abab-fbb3db8d60fa",
    "outputId": "c35efe32-5e1f-4282-ad28-6fcb19c11a10"
   },
   "outputs": [
    {
     "data": {
      "text/plain": [
       "array([[ 62.51665222],\n",
       "       [-18.64232429],\n",
       "       [  1.71652679]])"
      ]
     },
     "execution_count": 51,
     "metadata": {},
     "output_type": "execute_result"
    }
   ],
   "source": [
    "pesos_ols(X_new, y)"
   ]
  },
  {
   "cell_type": "markdown",
   "id": "1IkCsR5ue89W",
   "metadata": {
    "id": "1IkCsR5ue89W"
   },
   "source": [
    "*Almacenamos los coeficientes en una variable, para luego estimar el mpg de forma más cómoda.*"
   ]
  },
  {
   "cell_type": "code",
   "execution_count": 52,
   "id": "b0ef964c-6b5e-45e3-b1c0-4dd2afb68dc1",
   "metadata": {
    "executionInfo": {
     "elapsed": 10,
     "status": "ok",
     "timestamp": 1752589327248,
     "user": {
      "displayName": "Guillermo Barrio",
      "userId": "06925154007558381895"
     },
     "user_tz": -120
    },
    "id": "b0ef964c-6b5e-45e3-b1c0-4dd2afb68dc1"
   },
   "outputs": [],
   "source": [
    "pesos_est = pesos_ols(X_new, y)"
   ]
  },
  {
   "cell_type": "code",
   "execution_count": null,
   "id": "6c6f7762-db3c-48e9-ab79-5773b6cdf3e4",
   "metadata": {
    "id": "6c6f7762-db3c-48e9-ab79-5773b6cdf3e4"
   },
   "outputs": [],
   "source": []
  },
  {
   "cell_type": "markdown",
   "id": "zvGaKqZ3fIMl",
   "metadata": {
    "id": "zvGaKqZ3fIMl"
   },
   "source": [
    "*Chequeamos con SKlearn que nuestros coeficientes son correctos, y lo son.*"
   ]
  },
  {
   "cell_type": "code",
   "execution_count": 53,
   "id": "54c4db86-b3e1-4997-ae63-6422af7971bd",
   "metadata": {
    "colab": {
     "base_uri": "https://localhost:8080/"
    },
    "executionInfo": {
     "elapsed": 83,
     "status": "ok",
     "timestamp": 1752585368711,
     "user": {
      "displayName": "Guillermo Barrio",
      "userId": "06925154007558381895"
     },
     "user_tz": -120
    },
    "id": "54c4db86-b3e1-4997-ae63-6422af7971bd",
    "outputId": "f7008454-ff63-4a8e-c69a-304ff5baf6c9"
   },
   "outputs": [
    {
     "name": "stdout",
     "output_type": "stream",
     "text": [
      "Punto de corte: [62.51665222]\n",
      "Coeficientes: [[-18.64232429   1.71652679]]\n"
     ]
    }
   ],
   "source": [
    "lr.fit(X_new, y)\n",
    "print(\"Punto de corte:\", lr.intercept_)\n",
    "print(\"Coeficientes:\", lr.coef_)"
   ]
  },
  {
   "cell_type": "code",
   "execution_count": null,
   "id": "f4551536-804c-4da1-8701-ec120b2c9a03",
   "metadata": {
    "id": "f4551536-804c-4da1-8701-ec120b2c9a03"
   },
   "outputs": [],
   "source": []
  },
  {
   "cell_type": "markdown",
   "id": "KEtvB8QZfWTB",
   "metadata": {
    "id": "KEtvB8QZfWTB"
   },
   "source": [
    "*Calculamos la estimación de los mpg con el modelo llamemosle cuadrático, y comprobamos que la dimensión del resultado es la correcta.*"
   ]
  },
  {
   "cell_type": "code",
   "execution_count": 54,
   "id": "6fc00871-623f-46de-aca2-5428812f0df9",
   "metadata": {
    "executionInfo": {
     "elapsed": 10,
     "status": "ok",
     "timestamp": 1752585374595,
     "user": {
      "displayName": "Guillermo Barrio",
      "userId": "06925154007558381895"
     },
     "user_tz": -120
    },
    "id": "6fc00871-623f-46de-aca2-5428812f0df9"
   },
   "outputs": [],
   "source": [
    "y_est = pesos_est[0] + pesos_est[1] * X_new[:, 0] + pesos_est[2] * X_new[:, 1]"
   ]
  },
  {
   "cell_type": "code",
   "execution_count": 55,
   "id": "e3483b77-405b-4b04-bd85-4691fa3a70d5",
   "metadata": {
    "colab": {
     "base_uri": "https://localhost:8080/"
    },
    "executionInfo": {
     "elapsed": 13,
     "status": "ok",
     "timestamp": 1752585376094,
     "user": {
      "displayName": "Guillermo Barrio",
      "userId": "06925154007558381895"
     },
     "user_tz": -120
    },
    "id": "e3483b77-405b-4b04-bd85-4691fa3a70d5",
    "outputId": "10020fd4-29ce-4624-8664-debe993bd5d1"
   },
   "outputs": [
    {
     "data": {
      "text/plain": [
       "(398,)"
      ]
     },
     "execution_count": 55,
     "metadata": {},
     "output_type": "execute_result"
    }
   ],
   "source": [
    "y_est.shape"
   ]
  },
  {
   "cell_type": "markdown",
   "id": "hRgGFgsagr-8",
   "metadata": {
    "id": "hRgGFgsagr-8"
   },
   "source": [
    "*Ahora podemos pintar lo que hemos obtenido. En el cuadro siguiente mostramos los datos en rojo, la recta obtenida con el modelo lineal en azul, y la parábola que acabamos de determinar en verde. Lo cierto es que no hay una gran variación entre una y otra.*"
   ]
  },
  {
   "cell_type": "code",
   "execution_count": 57,
   "id": "94cf32d6-11a4-4777-90cb-68ddaf1142f1",
   "metadata": {
    "colab": {
     "base_uri": "https://localhost:8080/",
     "height": 542
    },
    "executionInfo": {
     "elapsed": 413,
     "status": "ok",
     "timestamp": 1752590328642,
     "user": {
      "displayName": "Guillermo Barrio",
      "userId": "06925154007558381895"
     },
     "user_tz": -120
    },
    "id": "94cf32d6-11a4-4777-90cb-68ddaf1142f1",
    "outputId": "98d6b4f2-2f49-499d-d6ee-b2caff26d2f5"
   },
   "outputs": [
    {
     "data": {
      "image/png": "[encoded data removed]",
      "text/plain": [
       "<Figure size 1000x600 with 1 Axes>"
      ]
     },
     "metadata": {},
     "output_type": "display_data"
    }
   ],
   "source": [
    "X = auto_mpg.data.features['weight']\n",
    "y = auto_mpg.data.targets\n",
    "\n",
    "X = X.to_numpy()\n",
    "X = X.reshape(X.shape[0], 1)\n",
    "\n",
    "y = y.to_numpy()\n",
    "\n",
    "# Volvemos a calcular la recta del modelo lineal\n",
    "pesos = pesos_ols(X, y).reshape(2,)\n",
    "\n",
    "punto_corte = pesos[0]\n",
    "pendiente = pesos[1]\n",
    "\n",
    "x_plot = np.array([0, -punto_corte / pendiente])\n",
    "y_plot = np.array([punto_corte, 0])\n",
    "\n",
    "# Pintamos la figura\n",
    "plt.figure(figsize=(10, 6))\n",
    "# Pintamos los puntos\n",
    "plt.scatter(X, y, color = 'r')\n",
    "# Pintamos la recta\n",
    "plt.plot(x_plot, y_plot, lw = 3, color = 'b')\n",
    "plt.xlabel('weight')\n",
    "plt.ylabel('MPG Consumption')\n",
    "plt.title(f\"Gráfico de puntos relacionando MPG Consumption con weight, con recta y parábola que las correlaciona\")\n",
    "# Pintamos la parábola\n",
    "plt.scatter(X, y_est, color = 'g')\n",
    "\n",
    "plt.xlim(min(X)*0.9, max(X)*1.1)\n",
    "plt.ylim(min(y)*0.9, max(y)*1.1)\n",
    "plt.show()"
   ]
  },
  {
   "cell_type": "code",
   "execution_count": null,
   "id": "f83d27c3-4728-4a26-837d-a2127b384e55",
   "metadata": {
    "id": "f83d27c3-4728-4a26-837d-a2127b384e55"
   },
   "outputs": [],
   "source": []
  },
  {
   "cell_type": "markdown",
   "id": "PuR_jznxhwpY",
   "metadata": {
    "id": "PuR_jznxhwpY"
   },
   "source": [
    "*Podemos estimar lo mucho o poco que hemos mejorado el modelo al introducir una columna con el cuadrado del peso. Para ello introducimos en el DF X_completo una columna con la estimación del mpg que hemos obtenido, que llamamos 'MPG_est'*"
   ]
  },
  {
   "cell_type": "code",
   "execution_count": 58,
   "id": "4cc9ebe6-2927-4c3e-9b4d-9a9627292538",
   "metadata": {
    "executionInfo": {
     "elapsed": 9,
     "status": "ok",
     "timestamp": 1752589368169,
     "user": {
      "displayName": "Guillermo Barrio",
      "userId": "06925154007558381895"
     },
     "user_tz": -120
    },
    "id": "4cc9ebe6-2927-4c3e-9b4d-9a9627292538"
   },
   "outputs": [],
   "source": [
    "X_completo['MPG_est'] = y_est"
   ]
  },
  {
   "cell_type": "code",
   "execution_count": 59,
   "id": "fde92aec-060c-4bd4-b007-314c6429ff20",
   "metadata": {
    "colab": {
     "base_uri": "https://localhost:8080/",
     "height": 206
    },
    "executionInfo": {
     "elapsed": 83,
     "status": "ok",
     "timestamp": 1752589369162,
     "user": {
      "displayName": "Guillermo Barrio",
      "userId": "06925154007558381895"
     },
     "user_tz": -120
    },
    "id": "fde92aec-060c-4bd4-b007-314c6429ff20",
    "outputId": "b81bfb7d-0191-4650-9b59-9edd5ff68b01"
   },
   "outputs": [
    {
     "data": {
      "text/html": [
       "<div>\n",
       "<style scoped>\n",
       "    .dataframe tbody tr th:only-of-type {\n",
       "        vertical-align: middle;\n",
       "    }\n",
       "\n",
       "    .dataframe tbody tr th {\n",
       "        vertical-align: top;\n",
       "    }\n",
       "\n",
       "    .dataframe thead th {\n",
       "        text-align: right;\n",
       "    }\n",
       "</style>\n",
       "<table border=\"1\" class=\"dataframe\">\n",
       "  <thead>\n",
       "    <tr style=\"text-align: right;\">\n",
       "      <th></th>\n",
       "      <th>displacement</th>\n",
       "      <th>cylinders</th>\n",
       "      <th>horsepower</th>\n",
       "      <th>weight</th>\n",
       "      <th>acceleration</th>\n",
       "      <th>model_year</th>\n",
       "      <th>origin</th>\n",
       "      <th>MPG</th>\n",
       "      <th>weight_2</th>\n",
       "      <th>MPG_est</th>\n",
       "    </tr>\n",
       "  </thead>\n",
       "  <tbody>\n",
       "    <tr>\n",
       "      <th>0</th>\n",
       "      <td>307.0</td>\n",
       "      <td>8</td>\n",
       "      <td>130.0</td>\n",
       "      <td>3.504</td>\n",
       "      <td>12.0</td>\n",
       "      <td>70</td>\n",
       "      <td>1</td>\n",
       "      <td>18.0</td>\n",
       "      <td>12.278016</td>\n",
       "      <td>18.269491</td>\n",
       "    </tr>\n",
       "    <tr>\n",
       "      <th>1</th>\n",
       "      <td>350.0</td>\n",
       "      <td>8</td>\n",
       "      <td>165.0</td>\n",
       "      <td>3.693</td>\n",
       "      <td>11.5</td>\n",
       "      <td>70</td>\n",
       "      <td>1</td>\n",
       "      <td>15.0</td>\n",
       "      <td>13.638249</td>\n",
       "      <td>17.080968</td>\n",
       "    </tr>\n",
       "    <tr>\n",
       "      <th>2</th>\n",
       "      <td>318.0</td>\n",
       "      <td>8</td>\n",
       "      <td>150.0</td>\n",
       "      <td>3.436</td>\n",
       "      <td>11.0</td>\n",
       "      <td>70</td>\n",
       "      <td>1</td>\n",
       "      <td>18.0</td>\n",
       "      <td>11.806096</td>\n",
       "      <td>18.727106</td>\n",
       "    </tr>\n",
       "    <tr>\n",
       "      <th>3</th>\n",
       "      <td>304.0</td>\n",
       "      <td>8</td>\n",
       "      <td>150.0</td>\n",
       "      <td>3.433</td>\n",
       "      <td>12.0</td>\n",
       "      <td>70</td>\n",
       "      <td>1</td>\n",
       "      <td>16.0</td>\n",
       "      <td>11.785489</td>\n",
       "      <td>18.747660</td>\n",
       "    </tr>\n",
       "    <tr>\n",
       "      <th>4</th>\n",
       "      <td>302.0</td>\n",
       "      <td>8</td>\n",
       "      <td>140.0</td>\n",
       "      <td>3.449</td>\n",
       "      <td>10.5</td>\n",
       "      <td>70</td>\n",
       "      <td>1</td>\n",
       "      <td>17.0</td>\n",
       "      <td>11.895601</td>\n",
       "      <td>18.638394</td>\n",
       "    </tr>\n",
       "  </tbody>\n",
       "</table>\n",
       "</div>"
      ],
      "text/plain": [
       "   displacement  cylinders  horsepower  weight  acceleration  model_year  \\\n",
       "0         307.0          8       130.0   3.504          12.0          70   \n",
       "1         350.0          8       165.0   3.693          11.5          70   \n",
       "2         318.0          8       150.0   3.436          11.0          70   \n",
       "3         304.0          8       150.0   3.433          12.0          70   \n",
       "4         302.0          8       140.0   3.449          10.5          70   \n",
       "\n",
       "   origin   MPG   weight_2    MPG_est  \n",
       "0       1  18.0  12.278016  18.269491  \n",
       "1       1  15.0  13.638249  17.080968  \n",
       "2       1  18.0  11.806096  18.727106  \n",
       "3       1  16.0  11.785489  18.747660  \n",
       "4       1  17.0  11.895601  18.638394  "
      ]
     },
     "execution_count": 59,
     "metadata": {},
     "output_type": "execute_result"
    }
   ],
   "source": [
    "X_completo.head()"
   ]
  },
  {
   "cell_type": "code",
   "execution_count": null,
   "id": "15ac2cf0-9b36-4c8a-aaed-858874c3d0c2",
   "metadata": {
    "id": "15ac2cf0-9b36-4c8a-aaed-858874c3d0c2"
   },
   "outputs": [],
   "source": []
  },
  {
   "cell_type": "markdown",
   "id": "5IV7i59RiSR8",
   "metadata": {
    "id": "5IV7i59RiSR8"
   },
   "source": [
    "*Calculamos la matriz de correlaciones. Lo cierto es que hay una correlación entre MPG_est y MPG del 0,85, algo superior que en el caso del modelo lineal, que es del 0,83, por lo que hay una ligera mejora, pero nada espectacular; con todo, la correlación era ya muy alta.*"
   ]
  },
  {
   "cell_type": "code",
   "execution_count": 60,
   "id": "2db44f76-bc27-48b3-bbb1-27a154de791a",
   "metadata": {
    "colab": {
     "base_uri": "https://localhost:8080/"
    },
    "executionInfo": {
     "elapsed": 16,
     "status": "ok",
     "timestamp": 1752589372079,
     "user": {
      "displayName": "Guillermo Barrio",
      "userId": "06925154007558381895"
     },
     "user_tz": -120
    },
    "id": "2db44f76-bc27-48b3-bbb1-27a154de791a",
    "outputId": "5e289ad6-7722-45a9-d7ed-a80fd7ce13b8"
   },
   "outputs": [
    {
     "name": "stdout",
     "output_type": "stream",
     "text": [
      "              displacement  cylinders  horsepower    weight  acceleration  \\\n",
      "displacement      1.000000   0.950721    0.897257  0.932824     -0.543684   \n",
      "cylinders         0.950721   1.000000    0.842983  0.896017     -0.505419   \n",
      "horsepower        0.897257   0.842983    1.000000  0.864538     -0.689196   \n",
      "weight            0.932824   0.896017    0.864538  1.000000     -0.417457   \n",
      "acceleration     -0.543684  -0.505419   -0.689196 -0.417457      1.000000   \n",
      "model_year       -0.370164  -0.348746   -0.416361 -0.306564      0.288137   \n",
      "origin           -0.609409  -0.562543   -0.455171 -0.581024      0.205873   \n",
      "MPG              -0.804203  -0.775396   -0.778427 -0.831741      0.420289   \n",
      "weight_2          0.928907   0.889918    0.869720  0.991953     -0.427367   \n",
      "MPG_est          -0.912613  -0.879912   -0.833415 -0.983783      0.391889   \n",
      "\n",
      "              model_year    origin       MPG  weight_2   MPG_est  \n",
      "displacement   -0.370164 -0.609409 -0.804203  0.928907 -0.912613  \n",
      "cylinders      -0.348746 -0.562543 -0.775396  0.889918 -0.879912  \n",
      "horsepower     -0.416361 -0.455171 -0.778427  0.869720 -0.833415  \n",
      "weight         -0.306564 -0.581024 -0.831741  0.991953 -0.983783  \n",
      "acceleration    0.288137  0.205873  0.420289 -0.427367  0.391889  \n",
      "model_year      1.000000  0.180662  0.579267 -0.323197  0.274534  \n",
      "origin          0.180662  1.000000  0.563450 -0.547993  0.611772  \n",
      "MPG             0.579267  0.563450  1.000000 -0.805849  0.845451  \n",
      "weight_2       -0.323197 -0.547993 -0.805849  1.000000 -0.953159  \n",
      "MPG_est         0.274534  0.611772  0.845451 -0.953159  1.000000  \n"
     ]
    }
   ],
   "source": [
    "correlation_matrix = X_completo.corr()\n",
    "print(correlation_matrix)"
   ]
  },
  {
   "cell_type": "code",
   "execution_count": null,
   "id": "9fe02943-9f85-4b89-9ca9-85e956688b88",
   "metadata": {
    "id": "9fe02943-9f85-4b89-9ca9-85e956688b88"
   },
   "outputs": [],
   "source": []
  },
  {
   "cell_type": "code",
   "execution_count": null,
   "id": "07d75674-1ca8-4d6d-90bb-8a7f88e033e3",
   "metadata": {
    "id": "07d75674-1ca8-4d6d-90bb-8a7f88e033e3"
   },
   "outputs": [],
   "source": []
  },
  {
   "cell_type": "markdown",
   "id": "iq-OvlFti2A9",
   "metadata": {
    "id": "iq-OvlFti2A9"
   },
   "source": [
    "### 3.2 Descenso de Gradiente"
   ]
  },
  {
   "cell_type": "markdown",
   "id": "Jn84OXMijhrr",
   "metadata": {
    "id": "Jn84OXMijhrr"
   },
   "source": [
    "*Estimamos ahora el descenso de gradiente para el caso del modelo cuadrático. Tenemos que estandarizar las dos filas, aunque para ello es mejor utilizar la librería de SKlearn StandardScaler.*"
   ]
  },
  {
   "cell_type": "code",
   "execution_count": 61,
   "id": "f796e64b-1a06-4660-8714-d0c31d452a6a",
   "metadata": {
    "executionInfo": {
     "elapsed": 9,
     "status": "ok",
     "timestamp": 1752589375450,
     "user": {
      "displayName": "Guillermo Barrio",
      "userId": "06925154007558381895"
     },
     "user_tz": -120
    },
    "id": "f796e64b-1a06-4660-8714-d0c31d452a6a"
   },
   "outputs": [],
   "source": [
    "from sklearn.preprocessing import StandardScaler"
   ]
  },
  {
   "cell_type": "code",
   "execution_count": 62,
   "id": "61daae69-cae7-46fc-adeb-44a680450fe6",
   "metadata": {
    "executionInfo": {
     "elapsed": 10,
     "status": "ok",
     "timestamp": 1752589376726,
     "user": {
      "displayName": "Guillermo Barrio",
      "userId": "06925154007558381895"
     },
     "user_tz": -120
    },
    "id": "61daae69-cae7-46fc-adeb-44a680450fe6"
   },
   "outputs": [],
   "source": [
    "X_new = X_completo[['weight', 'weight_2']]\n",
    "X_new = X_new.to_numpy()\n",
    "\n",
    "scaler = StandardScaler()\n",
    "scaler.fit(X_new)\n",
    "X_new_sc = scaler.transform(X_new).reshape(X_new.shape[0], 2)\n",
    "\n"
   ]
  },
  {
   "cell_type": "code",
   "execution_count": null,
   "id": "6933e13e-6e62-4e7f-9211-38f5867bb42a",
   "metadata": {
    "id": "6933e13e-6e62-4e7f-9211-38f5867bb42a"
   },
   "outputs": [],
   "source": []
  },
  {
   "cell_type": "markdown",
   "id": "AQLyXNgrkGiQ",
   "metadata": {
    "id": "AQLyXNgrkGiQ"
   },
   "source": [
    "*Tomamos como referencia los coeficientes que determina SKlearn.*"
   ]
  },
  {
   "cell_type": "code",
   "execution_count": 63,
   "id": "cdc5d9a5-b880-4a4f-86d0-0d0ab08c6a14",
   "metadata": {
    "colab": {
     "base_uri": "https://localhost:8080/"
    },
    "executionInfo": {
     "elapsed": 15,
     "status": "ok",
     "timestamp": 1752589378562,
     "user": {
      "displayName": "Guillermo Barrio",
      "userId": "06925154007558381895"
     },
     "user_tz": -120
    },
    "id": "cdc5d9a5-b880-4a4f-86d0-0d0ab08c6a14",
    "outputId": "087996e1-ef48-4efd-ea5f-c7cdd35a41b6"
   },
   "outputs": [
    {
     "name": "stdout",
     "output_type": "stream",
     "text": [
      "Punto de corte: [23.51457286]\n",
      "Coeficientes: [[-15.76725346   9.3497882 ]]\n"
     ]
    }
   ],
   "source": [
    "lr.fit(X_new_sc, y)\n",
    "print(\"Punto de corte:\", lr.intercept_)\n",
    "print(\"Coeficientes:\", lr.coef_)"
   ]
  },
  {
   "cell_type": "code",
   "execution_count": null,
   "id": "6b1e6b1f-be1f-485a-bc6a-4602791cf52f",
   "metadata": {
    "id": "6b1e6b1f-be1f-485a-bc6a-4602791cf52f"
   },
   "outputs": [],
   "source": []
  },
  {
   "cell_type": "markdown",
   "id": "E4mVtdExkdpu",
   "metadata": {
    "id": "E4mVtdExkdpu"
   },
   "source": [
    "*Ahora tomamos los datos inciales, que para ponerselo un poco más complicado al modelo consideramos los w1 y w2 con signos distintos a la solución, y ejecutamos el modelo. Hemos considerado un número mayor de iteraciones, unas 5.000. Finalmente el resultado es el correcto.*"
   ]
  },
  {
   "cell_type": "markdown",
   "id": "YvgjR-sJl094",
   "metadata": {
    "id": "YvgjR-sJl094"
   },
   "source": [
    "*Con todo, el modelo es bastante sensible al parámetro eta: uno muy bajo, como 0,0005 no consigue converger rápidamente, y uno demasiado alto, como 0,005 acaba siendo inestable.*"
   ]
  },
  {
   "cell_type": "code",
   "execution_count": 64,
   "id": "2a95f631-ef87-449d-a9d4-4c48b4c4e071",
   "metadata": {
    "executionInfo": {
     "elapsed": 10,
     "status": "ok",
     "timestamp": 1752591593055,
     "user": {
      "displayName": "Guillermo Barrio",
      "userId": "06925154007558381895"
     },
     "user_tz": -120
    },
    "id": "2a95f631-ef87-449d-a9d4-4c48b4c4e071"
   },
   "outputs": [],
   "source": [
    "w_inicial = np.array([40.0, 20.0, -10.0], dtype = float).reshape(3, 1)\n",
    "iteraciones = 5000\n",
    "eta = 0.0015\n",
    "tol = 1e-12"
   ]
  },
  {
   "cell_type": "code",
   "execution_count": 65,
   "id": "0ab7cd5d-945d-4a5f-a803-549296e2b3cc",
   "metadata": {
    "colab": {
     "base_uri": "https://localhost:8080/"
    },
    "executionInfo": {
     "elapsed": 11284,
     "status": "ok",
     "timestamp": 1752591607330,
     "user": {
      "displayName": "Guillermo Barrio",
      "userId": "06925154007558381895"
     },
     "user_tz": -120
    },
    "id": "0ab7cd5d-945d-4a5f-a803-549296e2b3cc",
    "outputId": "ca945a2a-11a1-4aa9-cf79-67c1cc84cc45"
   },
   "outputs": [
    {
     "data": {
      "text/plain": [
       "(array([[ 23.51457275],\n",
       "        [-15.76724553],\n",
       "        [  9.34978033]]),\n",
       " 5000,\n",
       " 7.631586652633801e-08,\n",
       " 29.81542479412054)"
      ]
     },
     "execution_count": 65,
     "metadata": {},
     "output_type": "execute_result"
    }
   ],
   "source": [
    "descenso_gradiente_ndim(w_inicial, X_new_sc, y, iteraciones, eta, tol)"
   ]
  },
  {
   "cell_type": "code",
   "execution_count": 66,
   "id": "a25f1ea5-a633-4373-9029-c10641c408bc",
   "metadata": {
    "colab": {
     "base_uri": "https://localhost:8080/"
    },
    "executionInfo": {
     "elapsed": 5936,
     "status": "ok",
     "timestamp": 1752591625294,
     "user": {
      "displayName": "Guillermo Barrio",
      "userId": "06925154007558381895"
     },
     "user_tz": -120
    },
    "id": "a25f1ea5-a633-4373-9029-c10641c408bc",
    "outputId": "54f363a8-ffdc-4a3a-a180-d2974c545309"
   },
   "outputs": [
    {
     "name": "stdout",
     "output_type": "stream",
     "text": [
      "Se ha obtenido una estimación de los coeficientes w0, w1, ..., wn de [23.514572754138655, -15.767245531215968, 9.34978032910548] tras 5000 iteraciones\n"
     ]
    }
   ],
   "source": [
    "w_resultado_ndim, iter, _, _ = descenso_gradiente_ndim(w_inicial, X_new_sc, y, iteraciones, eta, tol)\n",
    "\n",
    "print(f'Se ha obtenido una estimación de los coeficientes w0, w1, ..., wn de {w_resultado_ndim.flatten().tolist()} tras {iter} iteraciones')"
   ]
  },
  {
   "cell_type": "code",
   "execution_count": null,
   "id": "aa28752d-3c74-465f-89dd-1b6947ffae61",
   "metadata": {
    "id": "aa28752d-3c74-465f-89dd-1b6947ffae61"
   },
   "outputs": [],
   "source": []
  },
  {
   "cell_type": "markdown",
   "id": "850c6398-363c-4407-8dc5-69af5b508ca0",
   "metadata": {
    "id": "cc0ac43a-428f-446c-8682-4c7a46bdf683"
   },
   "source": [
    "# *Fin de la práctica*"
   ]
  },
  {
   "cell_type": "code",
   "execution_count": null,
   "id": "c3b282bb-fc54-43b9-92fc-e4a45f5b2b10",
   "metadata": {
    "id": "c3b282bb-fc54-43b9-92fc-e4a45f5b2b10"
   },
   "outputs": [],
   "source": []
  },
  {
   "cell_type": "code",
   "execution_count": null,
   "id": "7335012e-b96e-413a-8e72-615a2c76085e",
   "metadata": {
    "id": "7335012e-b96e-413a-8e72-615a2c76085e"
   },
   "outputs": [],
   "source": []
  },
  {
   "cell_type": "code",
   "execution_count": null,
   "id": "e172252f-4a71-4509-8da6-8488993674da",
   "metadata": {},
   "outputs": [],
   "source": []
  },
  {
   "cell_type": "code",
   "execution_count": null,
   "id": "f3b19da3-e997-484e-9439-65b5b68478df",
   "metadata": {},
   "outputs": [],
   "source": []
  },
  {
   "cell_type": "code",
   "execution_count": null,
   "id": "7be0e992-3c9b-49f3-93a8-fd96be3c57fb",
   "metadata": {},
   "outputs": [],
   "source": []
  },
  {
   "cell_type": "code",
   "execution_count": null,
   "id": "32311f97-1d36-4751-a41e-a432d802b56a",
   "metadata": {},
   "outputs": [],
   "source": []
  },
  {
   "cell_type": "code",
   "execution_count": null,
   "id": "a73d5785",
   "metadata": {
    "id": "a73d5785"
   },
   "outputs": [],
   "source": [
    "import numpy as np\n",
    "\n",
    "def gradient_descent(X, y, w0, n_iter, eta):\n",
    "    # Define la función que calcule n_iter iteraciones del descenso del gradiente\n",
    "    # Inicializamos variables\n",
    "    # Si eliges otra forma de resolverlo, puedes borrar esta parte\n",
    "    loss_iter = [np.inf]\n",
    "    w_iter = [w0]\n",
    "    w = w0\n",
    "\n",
    "    # TODO 1 Añade la columna de 1s\n",
    "\n",
    "\n",
    "    # TODO 2 Haz un bucle para las iteraciones\n",
    "    # TODO 3 Dentro del bucle tendrás que actualizar el error y los pesos y añadirlos a las listas\n",
    "\n",
    "\n",
    "    # Devuelve los resultados\n",
    "    return np.array(w_iter), np.array(loss_iter)\n",
    "\n",
    "\n",
    "eta = 0.01\n",
    "iteraciones = 2000\n",
    "\n",
    "np.random.seed(123)\n",
    "w0 = np.random.rand(2).reshape((2,1))\n",
    "\n",
    "y = np.array([208500, 181500, 223500, 140000, 250000]).reshape((5,1))\n",
    "X = np.array( [[  0.37020659],\n",
    "               [  -0.48234664],\n",
    "               [  0.51483616],\n",
    "               [  0.38352774],\n",
    "               [  1.29888065]])\n",
    "\n",
    "weights, loss = gradient_descent(X, y, w0, iteraciones, eta)\n",
    "\n",
    "print(weights[-1])"
   ]
  },
  {
   "cell_type": "markdown",
   "id": "6d6e3013",
   "metadata": {
    "id": "6d6e3013"
   },
   "source": [
    "### 2.2 Aplicar al dataset de consumo de combustible\n",
    "\n",
    "Leemos de nuevo los datos y aplicamos la función que acabamos de programar."
   ]
  },
  {
   "cell_type": "code",
   "execution_count": null,
   "id": "5b684062",
   "metadata": {
    "id": "5b684062",
    "outputId": "43119776-e53d-4ee8-e23d-37c23bd41560"
   },
   "outputs": [
    {
     "name": "stdout",
     "output_type": "stream",
     "text": [
      "(398, 1)\n",
      "(398, 1)\n"
     ]
    }
   ],
   "source": [
    "from ucimlrepo import fetch_ucirepo\n",
    "\n",
    "# fetch dataset\n",
    "auto_mpg = fetch_ucirepo(id=9)\n",
    "\n",
    "# data (as pandas dataframes)\n",
    "X = auto_mpg.data.features\n",
    "y = auto_mpg.data.targets\n",
    "\n",
    "# convert to numpy\n",
    "X_np = X['weight'].to_numpy().reshape((X.shape[0], 1))\n",
    "y_np = y.to_numpy()\n",
    "\n",
    "print(X_np.shape)\n",
    "print(y_np.shape)"
   ]
  },
  {
   "cell_type": "markdown",
   "id": "94d27c55",
   "metadata": {
    "id": "94d27c55"
   },
   "source": [
    "Para ayudar al algoritmo, vamos a escalar la variable X, restando la media y dividiendo entre la desviación estándar. Después aplicamos la función anterior y dibujamos."
   ]
  },
  {
   "cell_type": "code",
   "execution_count": null,
   "id": "b5438c2a",
   "metadata": {
    "id": "b5438c2a"
   },
   "outputs": [],
   "source": [
    "# TODO Aplica el modelo y dibuja la recta junto con los datos\n",
    "\n",
    "X = auto_mpg.data.features\n",
    "y = auto_mpg.data.targets\n",
    "\n",
    "# Escalamos la variable x\n",
    "\n",
    "X_np = X['weight'].to_numpy().reshape((X.shape[0], 1))\n",
    "y_np = y.to_numpy()\n",
    "\n",
    "X_gd=(X_np - X_np.mean()) / X_np.std()\n",
    "y_gd = y_np\n",
    "\n",
    "# TODO 1 Punto inicial y learning rate\n",
    "\n",
    "\n",
    "# TODO 2 Aplicamos el algoritmo\n",
    "\n",
    "\n",
    "# Límites de los ejes\n",
    "x_max = np.max(X_gd) + 1\n",
    "x_min = np.min(X_gd) -1\n",
    "\n",
    "\n",
    "# TODO 3 Dibuja la gráfica\n"
   ]
  }
 ],
 "metadata": {
  "colab": {
   "provenance": []
  },
  "kernelspec": {
   "display_name": "Python 3 (ipykernel)",
   "language": "python",
   "name": "python3"
  },
  "language_info": {
   "codemirror_mode": {
    "name": "ipython",
    "version": 3
   },
   "file_extension": ".py",
   "mimetype": "text/x-python",
   "name": "python",
   "nbconvert_exporter": "python",
   "pygments_lexer": "ipython3",
   "version": "3.12.0"
  }
 },
 "nbformat": 4,
 "nbformat_minor": 5
}
